{
 "cells": [
  {
   "cell_type": "markdown",
   "id": "6b670135-ad75-46f1-b679-e92977b81d29",
   "metadata": {},
   "source": [
    "Topics covered:\n",
    "<ul>\n",
    "    <li>Split-Apply-Combine functionality</li>\n",
    "    <li>Filtering the groups</li>\n",
    "    <li>Data Transformation</li>\n",
    "</ul>"
   ]
  },
  {
   "cell_type": "code",
   "execution_count": 2,
   "id": "45b5e16d-14c3-43f8-b806-237dd7ee1b38",
   "metadata": {},
   "outputs": [],
   "source": [
    "import pandas as pd"
   ]
  },
  {
   "cell_type": "code",
   "execution_count": 8,
   "id": "0f33ec0a-fdae-4f02-bc9e-74db7c97db9c",
   "metadata": {},
   "outputs": [],
   "source": [
    "movies_info = pd.read_csv('../csv-files/NetflixOriginals.csv', encoding='ISO-8859-1')"
   ]
  },
  {
   "cell_type": "code",
   "execution_count": 9,
   "id": "46ed4f11-56c4-4d45-9ed7-3be3288dbb75",
   "metadata": {},
   "outputs": [
    {
     "data": {
      "text/html": [
       "<div>\n",
       "<style scoped>\n",
       "    .dataframe tbody tr th:only-of-type {\n",
       "        vertical-align: middle;\n",
       "    }\n",
       "\n",
       "    .dataframe tbody tr th {\n",
       "        vertical-align: top;\n",
       "    }\n",
       "\n",
       "    .dataframe thead th {\n",
       "        text-align: right;\n",
       "    }\n",
       "</style>\n",
       "<table border=\"1\" class=\"dataframe\">\n",
       "  <thead>\n",
       "    <tr style=\"text-align: right;\">\n",
       "      <th></th>\n",
       "      <th>Title</th>\n",
       "      <th>Genre</th>\n",
       "      <th>Premiere</th>\n",
       "      <th>Runtime</th>\n",
       "      <th>IMDB Score</th>\n",
       "      <th>Language</th>\n",
       "    </tr>\n",
       "  </thead>\n",
       "  <tbody>\n",
       "    <tr>\n",
       "      <th>0</th>\n",
       "      <td>Enter the Anime</td>\n",
       "      <td>Documentary</td>\n",
       "      <td>August 5, 2019</td>\n",
       "      <td>58</td>\n",
       "      <td>2.5</td>\n",
       "      <td>English/Japanese</td>\n",
       "    </tr>\n",
       "    <tr>\n",
       "      <th>1</th>\n",
       "      <td>Dark Forces</td>\n",
       "      <td>Thriller</td>\n",
       "      <td>August 21, 2020</td>\n",
       "      <td>81</td>\n",
       "      <td>2.6</td>\n",
       "      <td>Spanish</td>\n",
       "    </tr>\n",
       "    <tr>\n",
       "      <th>2</th>\n",
       "      <td>The App</td>\n",
       "      <td>Science fiction/Drama</td>\n",
       "      <td>December 26, 2019</td>\n",
       "      <td>79</td>\n",
       "      <td>2.6</td>\n",
       "      <td>Italian</td>\n",
       "    </tr>\n",
       "    <tr>\n",
       "      <th>3</th>\n",
       "      <td>The Open House</td>\n",
       "      <td>Horror thriller</td>\n",
       "      <td>January 19, 2018</td>\n",
       "      <td>94</td>\n",
       "      <td>3.2</td>\n",
       "      <td>English</td>\n",
       "    </tr>\n",
       "    <tr>\n",
       "      <th>4</th>\n",
       "      <td>Kaali Khuhi</td>\n",
       "      <td>Mystery</td>\n",
       "      <td>October 30, 2020</td>\n",
       "      <td>90</td>\n",
       "      <td>3.4</td>\n",
       "      <td>Hindi</td>\n",
       "    </tr>\n",
       "  </tbody>\n",
       "</table>\n",
       "</div>"
      ],
      "text/plain": [
       "             Title                  Genre           Premiere  Runtime  \\\n",
       "0  Enter the Anime            Documentary     August 5, 2019       58   \n",
       "1      Dark Forces               Thriller    August 21, 2020       81   \n",
       "2          The App  Science fiction/Drama  December 26, 2019       79   \n",
       "3   The Open House        Horror thriller   January 19, 2018       94   \n",
       "4      Kaali Khuhi                Mystery   October 30, 2020       90   \n",
       "\n",
       "   IMDB Score          Language  \n",
       "0         2.5  English/Japanese  \n",
       "1         2.6           Spanish  \n",
       "2         2.6           Italian  \n",
       "3         3.2           English  \n",
       "4         3.4             Hindi  "
      ]
     },
     "execution_count": 9,
     "metadata": {},
     "output_type": "execute_result"
    }
   ],
   "source": [
    "movies_info.head()"
   ]
  },
  {
   "cell_type": "code",
   "execution_count": 10,
   "id": "db7951ba-48e8-4a24-8197-90513a88ae02",
   "metadata": {},
   "outputs": [
    {
     "data": {
      "text/plain": [
       "584"
      ]
     },
     "execution_count": 10,
     "metadata": {},
     "output_type": "execute_result"
    }
   ],
   "source": [
    "len(movies_info)"
   ]
  },
  {
   "cell_type": "markdown",
   "id": "d2e994d7-e102-46b5-8864-4c79823208c9",
   "metadata": {},
   "source": [
    "<h2>Split</h2>"
   ]
  },
  {
   "cell_type": "markdown",
   "id": "cbf56ac0-243d-43c3-bf4e-be8c1e9979c0",
   "metadata": {},
   "source": [
    "<strong>Grouping based on thee value of a column:</strong>"
   ]
  },
  {
   "cell_type": "code",
   "execution_count": 11,
   "id": "252a1a34-1bb0-450d-877b-bf747309b9f0",
   "metadata": {},
   "outputs": [],
   "source": [
    "#Find out how many movies of each genre exist in the DataFrame\n",
    "grouped = movies_info.groupby('Genre')"
   ]
  },
  {
   "cell_type": "code",
   "execution_count": 13,
   "id": "b50a39b3-9428-4870-a0bd-3500d75832cf",
   "metadata": {},
   "outputs": [
    {
     "data": {
      "text/plain": [
       "{'Action': [5, 39, 50, 153, 220, 277, 372], 'Action comedy': [13, 61, 155, 205, 257], 'Action thriller': [318], 'Action-adventure': [507], 'Action-thriller': [55, 315, 450], 'Action/Comedy': [99], 'Action/Science fiction': [104], 'Adventure': [232, 337], 'Adventure-romance': [227], 'Adventure/Comedy': [122], 'Aftershow / Interview': [66, 407, 434, 439, 451, 528], 'Animated musical comedy': [366], 'Animation': [64, 253, 452, 453, 506], 'Animation / Comedy': [446], 'Animation / Musicial': [309], 'Animation / Science Fiction': [537], 'Animation / Short': [325, 417, 513, 560], 'Animation/Christmas/Comedy/Adventure': [573], 'Animation/Comedy/Adventure': [314], 'Animation/Musical/Adventure': [306], 'Animation/Superhero': [51], 'Anime / Short': [40], 'Anime/Fantasy': [364], 'Anime/Science fiction': [323, 368], 'Anthology/Dark comedy': [543], 'Biographical/Comedy': [391], 'Biopic': [166, 207, 234, 239, 245, 255, 420, 449, 499], 'Black comedy': [123, 126], 'Christian musical': [141], 'Christmas comedy': [215], 'Christmas musical': [68], 'Christmas/Fantasy/Adventure/Comedy': [448], 'Comedy': [6, 9, 18, 22, 27, 28, 29, 33, 35, 47, 48, 54, 65, 69, 72, 73, 74, 75, 77, 83, 85, 96, 103, 110, 112, 119, 124, 125, 127, 138, 149, 158, 160, 167, 184, 221, 229, 231, 249, 261, 271, 278, 327, 342, 377, 397, 399, 447, 492], 'Comedy / Musical': [107, 430], 'Comedy horror': [150], 'Comedy mystery': [212], 'Comedy-drama': [81, 128, 134, 161, 176, 203, 248, 285, 305, 311, 385, 423, 431, 518], 'Comedy/Fantasy/Family': [94], 'Comedy/Horror': [185], 'Coming-of-age comedy-drama': [489], 'Concert Film': [293, 525, 532, 557, 578, 579], 'Crime drama': [116, 230, 233, 287, 361, 429, 461, 491, 500, 508, 561], 'Crime thriller': [280], 'Dance comedy': [243], 'Dark comedy': [145, 181], 'Documentary': [0, 10, 15, 20, 30, 36, 80, 111, 140, 151, 152, 199, 202, 223, 228, 259, 260, 263, 275, 286, 290, 292, 295, 301, 303, 304, 308, 310, 312, 316, 320, 324, 326, 329, 334, 339, 351, 353, 355, 356, 357, 359, 363, 367, 370, 371, 373, 375, 378, 384, 387, 392, 393, 394, 396, 400, 401, 402, 403, 404, 410, 412, 414, 415, 416, 419, 424, 425, 426, 427, 432, 433, 435, 436, 437, 440, 441, 442, 443, 444, 445, 455, 456, 458, 459, 460, 462, 463, 464, 465, 466, 468, 469, 471, 472, 473, 476, 479, 480, 482, ...], 'Drama': [11, 37, 41, 53, 56, 70, 82, 87, 92, 93, 97, 102, 148, 164, 165, 168, 169, 189, 191, 198, 208, 210, 211, 222, 224, 235, 236, 241, 246, 247, 258, 269, 273, 274, 276, 284, 291, 299, 307, 317, 322, 335, 336, 338, 343, 354, 365, 369, 374, 376, 381, 382, 383, 388, 389, 390, 405, 406, 408, 409, 411, 418, 438, 454, 470, 475, 477, 481, 488, 490, 493, 504, 549, 551, 559, 562, 565], 'Drama / Short': [345], 'Drama-Comedy': [487], 'Drama/Horror': [268], 'Family': [144, 225], 'Family film': [52, 266], 'Family/Christmas musical': [333], 'Family/Comedy-drama': [270], 'Fantasy': [186], 'Heist': [44], 'Heist film/Thriller': [7], 'Hidden-camera prank comedy': [346], 'Historical drama': [495], 'Historical-epic': [422], 'Horror': [31, 34, 46, 59, 71, 90, 101, 146, 348], 'Horror anthology': [16], 'Horror comedy': [139], 'Horror thriller': [3, 19, 331], 'Horror-thriller': [240, 265], 'Horror/Crime drama': [262], 'Making-of': [496, 558], 'Mentalism special': [457], 'Mockumentary': [174, 197], 'Musical': [108, 204], 'Musical / Short': [552], 'Musical comedy': [296, 330], 'Musical/Western/Fantasy': [8], 'Mystery': [4, 196], 'One-man show': [179, 467, 581], 'Political thriller': [17], 'Psychological horror': [195], 'Psychological thriller': [157, 347, 352, 474], 'Psychological thriller drama': [118], 'Romance': [132, 321, 344, 350, 421, 428], 'Romance drama': [32], 'Romantic comedy': [12, 26, 58, 67, 84, 91, 95, 105, 114, 121, 129, 131, 147, 156, 162, 163, 171, 173, 175, 177, 187, 188, 190, 200, 216, 217, 218, 238, 256, 264, 272, 289, 300, 319, 341, 349, 395, 478, 486], 'Romantic comedy-drama': [180], 'Romantic comedy/Holiday': [226], 'Romantic drama': [63, 135, 143, 302, 379], 'Romantic teen drama': [142], 'Romantic teenage drama': [106], 'Romantic thriller': [214], 'Satire': [178, 182], 'Science fiction': [78, 120, 136, 358], 'Science fiction adventure': [76], 'Science fiction thriller': [340], 'Science fiction/Action': [281], 'Science fiction/Drama': [2, 38, 283], 'Science fiction/Mystery': [115], 'Science fiction/Thriller': [170, 183, 209, 294], 'Sports film': [206], 'Sports-drama': [193, 250, 297], 'Spy thriller': [360, 362], 'Stop Motion': [244], ...}"
      ]
     },
     "execution_count": 13,
     "metadata": {},
     "output_type": "execute_result"
    }
   ],
   "source": [
    "#Show what groups have been formed\n",
    "grouped.groups"
   ]
  },
  {
   "cell_type": "code",
   "execution_count": 14,
   "id": "fbc324b6-493a-4a5e-b583-8e731f7a6109",
   "metadata": {},
   "outputs": [
    {
     "data": {
      "text/plain": [
       "115"
      ]
     },
     "execution_count": 14,
     "metadata": {},
     "output_type": "execute_result"
    }
   ],
   "source": [
    "#Show how many groups have been formed\n",
    "len(grouped.groups)"
   ]
  },
  {
   "cell_type": "code",
   "execution_count": 17,
   "id": "55b4d26f-7895-495c-9690-52a089df59cd",
   "metadata": {},
   "outputs": [
    {
     "data": {
      "text/plain": [
       "115"
      ]
     },
     "execution_count": 17,
     "metadata": {},
     "output_type": "execute_result"
    }
   ],
   "source": [
    "#Check the number of unique values in Genre column\n",
    "#Must be equal to the number of groups formed\n",
    "movies_info['Genre'].nunique()"
   ]
  },
  {
   "cell_type": "code",
   "execution_count": 18,
   "id": "c1a16982-0339-4506-9aaa-31b501250c47",
   "metadata": {},
   "outputs": [
    {
     "data": {
      "text/plain": [
       "Genre\n",
       "Action              7\n",
       "Action comedy       5\n",
       "Action thriller     1\n",
       "Action-adventure    1\n",
       "Action-thriller     3\n",
       "                   ..\n",
       "War                 2\n",
       "War drama           2\n",
       "War-Comedy          1\n",
       "Western             3\n",
       "Zombie/Heist        1\n",
       "Length: 115, dtype: int64"
      ]
     },
     "execution_count": 18,
     "metadata": {},
     "output_type": "execute_result"
    }
   ],
   "source": [
    "#See the size of each group\n",
    "grouped.size()"
   ]
  },
  {
   "cell_type": "code",
   "execution_count": null,
   "id": "207e23dc-4c7f-4a54-9139-4555ad33dc44",
   "metadata": {},
   "outputs": [],
   "source": []
  }
 ],
 "metadata": {
  "kernelspec": {
   "display_name": "Python 3 (ipykernel)",
   "language": "python",
   "name": "python3"
  },
  "language_info": {
   "codemirror_mode": {
    "name": "ipython",
    "version": 3
   },
   "file_extension": ".py",
   "mimetype": "text/x-python",
   "name": "python",
   "nbconvert_exporter": "python",
   "pygments_lexer": "ipython3",
   "version": "3.10.12"
  }
 },
 "nbformat": 4,
 "nbformat_minor": 5
}
