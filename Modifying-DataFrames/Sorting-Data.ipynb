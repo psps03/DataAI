{
 "cells": [
  {
   "cell_type": "markdown",
   "id": "cd9eebe6-7aed-4117-b9ec-ab998bf3f7c6",
   "metadata": {},
   "source": [
    "Topics covered:\n",
    "<ul>\n",
    "    <li>Sorting DataFrames based on single column</li>\n",
    "    <li>Sorting DataFrames based on multiple columns</li>\n",
    "    <li>Sorting in ascending and descending order</li>\n",
    "    <li>Sorting based on row and column labels</li>\n",
    "    <li>Sorting in the presence of missing values</li>\n",
    "</ul>"
   ]
  },
  {
   "cell_type": "code",
   "execution_count": null,
   "id": "882da187-2bde-46b1-8546-c9920f913b62",
   "metadata": {},
   "outputs": [],
   "source": [
    "import pandas as pd"
   ]
  },
  {
   "cell_type": "markdown",
   "id": "de10a58d-8935-402a-9c8b-c42dda559ecb",
   "metadata": {},
   "source": [
    "The dataset has 26 columns but for the purpose of this demo, we will use only a few columns which have been shown below as a list."
   ]
  },
  {
   "cell_type": "code",
   "execution_count": null,
   "id": "6e31440d-e585-4262-a99d-4ac4ea7b149d",
   "metadata": {},
   "outputs": [],
   "source": [
    "sub_columns = ['id', 'make', 'model', 'year', 'cylinders', 'fuelType', 'trany', 'mpgData', 'city08', 'highway08']"
   ]
  },
  {
   "cell_type": "code",
   "execution_count": null,
   "id": "f527d44a-5f73-4739-95e9-d7a5cf986110",
   "metadata": {},
   "outputs": [],
   "source": [
    "df1 = pd.read_csv('../csv-files/vehicles.csv', usecols = sub_columns)"
   ]
  },
  {
   "cell_type": "code",
   "execution_count": null,
   "id": "4e33dcfc-0264-4586-80ee-53bde5f3f1e7",
   "metadata": {},
   "outputs": [],
   "source": [
    "df1.info()"
   ]
  },
  {
   "cell_type": "code",
   "execution_count": null,
   "id": "e004b919-d57a-40ef-a97c-52efd531bc82",
   "metadata": {},
   "outputs": [],
   "source": [
    "df1.head()"
   ]
  },
  {
   "cell_type": "code",
   "execution_count": null,
   "id": "2dde778f-e5b6-4168-a502-d204b56d4bb3",
   "metadata": {},
   "outputs": [],
   "source": [
    "#Check for null values\n",
    "null_vals = df1.isnull().sum()\n",
    "print(null_vals[null_vals != 0])"
   ]
  },
  {
   "cell_type": "markdown",
   "id": "20d3e494-363e-4006-90d9-f04fe18ed00c",
   "metadata": {},
   "source": [
    "<strong>Sorting data based on a column:</strong>"
   ]
  },
  {
   "cell_type": "code",
   "execution_count": null,
   "id": "0a45f12a-d3fa-4a5c-a731-06f02ddc772d",
   "metadata": {},
   "outputs": [],
   "source": [
    "#Sort df1 based on the values of fuelType\n",
    "df1.sort_values('fuelType')"
   ]
  },
  {
   "cell_type": "markdown",
   "id": "f8438f2d-1bf1-40a4-b24f-b7c4c8013f19",
   "metadata": {},
   "source": [
    "The sorted does not affect the original DataFrame. It only returns a copy of the sorted DataFrame. This can be verified by looking at df1."
   ]
  },
  {
   "cell_type": "code",
   "execution_count": null,
   "id": "265c0ece-e235-43c9-a178-14feec756656",
   "metadata": {},
   "outputs": [],
   "source": [
    "df1.head()"
   ]
  },
  {
   "cell_type": "code",
   "execution_count": null,
   "id": "5ee3ebd6-ea80-4b95-8f98-02e0678d2957",
   "metadata": {},
   "outputs": [],
   "source": [
    "#Sort df1 by using the column city08\n",
    "df1.sort_values('city08')"
   ]
  },
  {
   "cell_type": "markdown",
   "id": "d801b5f2-02d6-4a5a-a07a-06e9faccc9e0",
   "metadata": {},
   "source": [
    "<strong>Sorting data in descending order:</strong>"
   ]
  },
  {
   "cell_type": "code",
   "execution_count": null,
   "id": "3be1ec1f-f291-4c34-b458-457cc7a74bf8",
   "metadata": {},
   "outputs": [],
   "source": [
    "df1.sort_values(by = 'city08', ascending = False)"
   ]
  },
  {
   "cell_type": "markdown",
   "id": "d63e64c8-9348-4e51-a0c8-e7b1432e6d23",
   "metadata": {},
   "source": [
    "<strong>Sorting using multiple columns:</strong>"
   ]
  },
  {
   "cell_type": "code",
   "execution_count": null,
   "id": "b8b1ff15-488e-4047-90b7-2d23032632ec",
   "metadata": {},
   "outputs": [],
   "source": [
    "df1.sort_values(by = ['city08', 'highway08']).head(20)"
   ]
  },
  {
   "cell_type": "markdown",
   "id": "212cec1a-4b62-48d0-bc7f-7966daef2a1b",
   "metadata": {},
   "source": [
    "<strong>Sorting multiple columns in descending order:</strong>"
   ]
  },
  {
   "cell_type": "code",
   "execution_count": null,
   "id": "310d7a81-5ac0-4cac-8955-5fa8c132beb3",
   "metadata": {},
   "outputs": [],
   "source": [
    "df1.sort_values(by = ['city08', 'highway08'], ascending = False).head(20)"
   ]
  },
  {
   "cell_type": "markdown",
   "id": "824652a9-9551-48e3-af5e-70c4af13ef44",
   "metadata": {},
   "source": [
    "<strong>Different order for different columns:</strong>"
   ]
  },
  {
   "cell_type": "markdown",
   "id": "3769a9cd-2b91-44e0-a195-d21078d39383",
   "metadata": {},
   "source": [
    "You may choose to sort according to multiple columns, where sorting can be ascending or descendingfor different columns. For example, in the below cell, city08 and highway08 follow descending orderwhile year follows ascending order."
   ]
  },
  {
   "cell_type": "code",
   "execution_count": null,
   "id": "7e5529a6-6061-4129-8e7e-d0a61ac23086",
   "metadata": {},
   "outputs": [],
   "source": [
    "df1.sort_values(by = ['city08', 'highway08', 'year'], ascending = [False, False, True], inplace = True)\n",
    "df1.head()"
   ]
  },
  {
   "cell_type": "markdown",
   "id": "21fc79fb-7eb6-4173-a12c-63450d3c761a",
   "metadata": {},
   "source": [
    "<strong>Sorting based on index:</strong>"
   ]
  },
  {
   "cell_type": "code",
   "execution_count": null,
   "id": "0a8258db-1a55-4286-a91f-7969e0efbc4f",
   "metadata": {},
   "outputs": [],
   "source": [
    "df1.sort_index()"
   ]
  },
  {
   "cell_type": "markdown",
   "id": "67fda9ec-3828-4c25-a2fe-70e6a8d121b0",
   "metadata": {},
   "source": [
    "We now create a new DataFrame named new_index_df from df1 where the index is set to thevalues in column year."
   ]
  },
  {
   "cell_type": "code",
   "execution_count": null,
   "id": "a693b055-eedb-45b3-b152-78e9ba2d2730",
   "metadata": {},
   "outputs": [],
   "source": [
    "new_index_df = df1.set_index('year')"
   ]
  },
  {
   "cell_type": "code",
   "execution_count": null,
   "id": "c81400ee-1371-4403-b89c-346bddfd17cd",
   "metadata": {},
   "outputs": [],
   "source": [
    "new_index_df.head()"
   ]
  },
  {
   "cell_type": "code",
   "execution_count": null,
   "id": "983ee9bd-3219-4475-9f89-5e734d714087",
   "metadata": {},
   "outputs": [],
   "source": [
    "#Sort row indices in descending order\n",
    "new_index_df.sort_index(ascending = False)"
   ]
  },
  {
   "cell_type": "markdown",
   "id": "90605a46-456d-4ca6-84ae-469f35f7846e",
   "metadata": {},
   "source": [
    "<strong>Sorting based on column labels:</strong>"
   ]
  },
  {
   "cell_type": "markdown",
   "id": "d3dde48c-afc4-496f-8f56-af99a6868ec2",
   "metadata": {},
   "source": [
    "Sorting can also work on column labels by setting the ‘axis’ parameter to 1.  The below cell willsort the DataFrame new_index_df based on column labels in descending order."
   ]
  },
  {
   "cell_type": "code",
   "execution_count": null,
   "id": "0b44e2e3-9290-47cc-9988-90a1d4eb1744",
   "metadata": {},
   "outputs": [],
   "source": [
    "new_index_df.sort_index(axis = 1, ascending = False)"
   ]
  },
  {
   "cell_type": "markdown",
   "id": "9d0e1a0f-1842-47c3-8f5f-ffc1cfc092ea",
   "metadata": {},
   "source": [
    "<strong>Sorting in the presence of missing values:</strong>"
   ]
  },
  {
   "cell_type": "code",
   "execution_count": null,
   "id": "0d484dc1-3743-4566-9c34-7e45f5dfc510",
   "metadata": {},
   "outputs": [],
   "source": [
    "df1.sort_values(by = 'cylinders', na_position = 'first', ascending = False)"
   ]
  },
  {
   "cell_type": "code",
   "execution_count": null,
   "id": "e47b37e1-04c0-4050-b691-911eabbf4b7f",
   "metadata": {},
   "outputs": [],
   "source": [
    "#Sort null values at the end\n",
    "df1.sort_values(by = 'cylinders', na_position = 'last')"
   ]
  }
 ],
 "metadata": {
  "kernelspec": {
   "display_name": "Python 3 (ipykernel)",
   "language": "python",
   "name": "python3"
  },
  "language_info": {
   "codemirror_mode": {
    "name": "ipython",
    "version": 3
   },
   "file_extension": ".py",
   "mimetype": "text/x-python",
   "name": "python",
   "nbconvert_exporter": "python",
   "pygments_lexer": "ipython3",
   "version": "3.10.12"
  }
 },
 "nbformat": 4,
 "nbformat_minor": 5
}
