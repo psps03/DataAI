{
 "cells": [
  {
   "cell_type": "markdown",
   "id": "4af3e3fb-6429-47f9-bd79-7448fa701407",
   "metadata": {},
   "source": [
    "<h1>Working with different data types</h1> <br>\n",
    "<p>This section will cover the following topics:\n",
    "    <ul>\n",
    "        <li>Finding data type information about the dataset</li>\n",
    "        <li>Converting from one data type to another</li>\n",
    "        <li>Selecting columns based on data types</li>\n",
    "        <li>Converting data time data</li>\n",
    "        <li>Additional topics</li>\n",
    "    </ul>\n",
    "</p>"
   ]
  },
  {
   "cell_type": "markdown",
   "id": "7a4a79cf-719b-4318-9e16-4677c0f266f5",
   "metadata": {},
   "source": [
    "<strong>Install pip:</strong>"
   ]
  },
  {
   "cell_type": "code",
   "execution_count": null,
   "id": "9ca18e10-8056-402e-98e0-99e7cce2331b",
   "metadata": {},
   "outputs": [],
   "source": [
    "!pip install pandas"
   ]
  },
  {
   "cell_type": "markdown",
   "id": "6f4ba241-a213-4419-8f38-c532baa70ef7",
   "metadata": {},
   "source": [
    "<strong>Import pandas to notebook:</strong>"
   ]
  },
  {
   "cell_type": "code",
   "execution_count": null,
   "id": "634336f0-e8f1-4413-a7e3-bffd5265bd16",
   "metadata": {},
   "outputs": [],
   "source": [
    "import pandas as pd"
   ]
  },
  {
   "cell_type": "markdown",
   "id": "44f5382b-4700-4195-80a0-31173abaeb48",
   "metadata": {},
   "source": [
    "The dataset is about significant earthquakes with a magnitude of 5.5 or higher, providing information about their date, time, and location. Only 1000 rows from the middle o the dataset have been used in this demo for the sake of simplicity."
   ]
  },
  {
   "cell_type": "code",
   "execution_count": null,
   "id": "87439442-6f85-4985-9050-c69fc09ce6f1",
   "metadata": {},
   "outputs": [],
   "source": [
    "#Read dataset\n",
    "df1 = pd.read_csv('../csv-files/database.csv')\n",
    "\n",
    "#Slice the dataset to arbitrarily select only 1000 rows\n",
    "df1 = df1[1000:2000]\n",
    "\n",
    "#Save the sliced dataset to a local csv file\n",
    "df1.to_csv('significant_earthquakes.csv')"
   ]
  },
  {
   "cell_type": "markdown",
   "id": "028bd14a-515c-4c50-851c-b3e56111951b",
   "metadata": {},
   "source": [
    "<strong>Read sliced dataset:</strong>"
   ]
  },
  {
   "cell_type": "code",
   "execution_count": null,
   "id": "142b61b5-4062-46b5-a553-e7fa50948652",
   "metadata": {},
   "outputs": [],
   "source": [
    "df1 = pd.read_csv('significant_earthquakes.csv')"
   ]
  },
  {
   "cell_type": "markdown",
   "id": "e711fbde-e57d-4c02-a8c6-ac2128c9afbd",
   "metadata": {},
   "source": [
    "<strong>Look at the first 5 rows:</strong>"
   ]
  },
  {
   "cell_type": "code",
   "execution_count": null,
   "id": "fb2131d4-fce4-44f9-b92d-0124f2f76edb",
   "metadata": {},
   "outputs": [],
   "source": [
    "df1.head()"
   ]
  },
  {
   "cell_type": "markdown",
   "id": "b8e82b5c-f58e-4eca-ac54-b2b22c2b3c53",
   "metadata": {},
   "source": [
    "The first column Unnamed: 0 is not useful so it can be dropped."
   ]
  },
  {
   "cell_type": "code",
   "execution_count": null,
   "id": "178cd8e9-4d1d-486a-935a-0faca0d5421e",
   "metadata": {},
   "outputs": [],
   "source": [
    "df1.drop(['Unnamed: 0'], axis = 1, inplace = True)"
   ]
  },
  {
   "cell_type": "code",
   "execution_count": null,
   "id": "6649f5d8-c06d-4413-9281-073df21ee497",
   "metadata": {},
   "outputs": [],
   "source": [
    "#Check if column has been dropped\n",
    "df1.head()"
   ]
  },
  {
   "cell_type": "markdown",
   "id": "04629062-4480-4e75-a1d9-6d9d73537b37",
   "metadata": {},
   "source": [
    "<h1>Finding data type information about the dataset</h1>"
   ]
  },
  {
   "cell_type": "markdown",
   "id": "aeb62a7a-9612-4a04-a76b-31971f135a98",
   "metadata": {},
   "source": [
    "<strong>Use .dtypes to see the data types of all the columns</strong>"
   ]
  },
  {
   "cell_type": "code",
   "execution_count": null,
   "id": "9c589175-ce15-48c3-adb3-c28a53b0cfd3",
   "metadata": {},
   "outputs": [],
   "source": [
    "df1.dtypes"
   ]
  },
  {
   "cell_type": "markdown",
   "id": "0009716d-df92-48cd-9e2a-7800616f08fd",
   "metadata": {},
   "source": [
    "<strong>.dtypes can also be applied to an individual column:</strong>"
   ]
  },
  {
   "cell_type": "code",
   "execution_count": null,
   "id": "250268b3-c3ef-495c-b4e4-d4109b79c468",
   "metadata": {},
   "outputs": [],
   "source": [
    "df1['Latitude'].dtypes"
   ]
  },
  {
   "cell_type": "markdown",
   "id": "b2a5b6ec-6f29-4385-9bfc-85054324ef65",
   "metadata": {},
   "source": [
    "<strong>.info() can also be used to see all the data types under the header Dtype:<strong>"
   ]
  },
  {
   "cell_type": "code",
   "execution_count": null,
   "id": "74c9186c-56c8-47c8-bf3f-a55e9aa9492d",
   "metadata": {},
   "outputs": [],
   "source": [
    "df1.info()"
   ]
  },
  {
   "cell_type": "markdown",
   "id": "f503e8fb-f7d3-455a-921c-b3a8ff9feaed",
   "metadata": {},
   "source": [
    "<h1>Converting from one data type to another</h1>"
   ]
  },
  {
   "cell_type": "markdown",
   "id": "56c87cb9-6e6e-466a-8d16-023d3138c040",
   "metadata": {},
   "source": [
    "<strong>Use .astype() to convert from one data type to another:</strong>"
   ]
  },
  {
   "cell_type": "code",
   "execution_count": null,
   "id": "9fbf85e2-7d9f-44a2-a3a4-30d32b40eb34",
   "metadata": {},
   "outputs": [],
   "source": [
    "df2 = df1.copy() #copy the dataframe\n",
    "df2['Latitude'] = df1['Latitude'].astype('int64') #convert the data type to int64\n",
    "df2.dtypes"
   ]
  },
  {
   "cell_type": "markdown",
   "id": "435775e3-9698-4d81-b03f-e6399e3dcc15",
   "metadata": {},
   "source": [
    "<h1>Converting date time data</h1>"
   ]
  },
  {
   "cell_type": "markdown",
   "id": "89da3eda-36f6-433e-8881-d436aada991f",
   "metadata": {},
   "source": [
    "Look at the data frame again. Notice how Date and Time column is showing <em>object</em> as the data type."
   ]
  },
  {
   "cell_type": "code",
   "execution_count": null,
   "id": "65526411-185d-4d38-a65c-5ae85f4e07eb",
   "metadata": {},
   "outputs": [],
   "source": [
    "df1.dtypes"
   ]
  },
  {
   "cell_type": "markdown",
   "id": "febda2a1-33e4-452e-b519-d5c37d07745d",
   "metadata": {},
   "source": [
    "<strong>Use .to_datetime to convert datetime data type:</strong>"
   ]
  },
  {
   "cell_type": "code",
   "execution_count": null,
   "id": "e4ade5c1-a7d4-4974-92fa-66775e533801",
   "metadata": {},
   "outputs": [],
   "source": [
    "df1['Date'] = pd.to_datetime(df1['Date'], format = '%m/%d/%Y')"
   ]
  },
  {
   "cell_type": "code",
   "execution_count": null,
   "id": "7cbe589a-3ef2-4d64-9057-c40bc2c90d87",
   "metadata": {},
   "outputs": [],
   "source": [
    "df1.head(10)"
   ]
  },
  {
   "cell_type": "code",
   "execution_count": null,
   "id": "335e5ac6-87c4-4d32-9ce0-90ae65ee0f95",
   "metadata": {},
   "outputs": [],
   "source": [
    "df1.dtypes"
   ]
  },
  {
   "cell_type": "markdown",
   "id": "845076a2-18bd-4ecf-8afb-2076f23f61b8",
   "metadata": {},
   "source": [
    "Find the difference between two dates in the dataset and look at the result."
   ]
  },
  {
   "cell_type": "code",
   "execution_count": null,
   "id": "dc595e59-f4f7-4461-a5a8-cb5c9e01199c",
   "metadata": {},
   "outputs": [],
   "source": [
    "df1['Date'][6] - df1['Date'][0]"
   ]
  },
  {
   "cell_type": "markdown",
   "id": "44068666-67f1-4cf2-bf08-110e8539fc5d",
   "metadata": {},
   "source": [
    "The differrence between the two dates is returned. A time stamp is also returned which gives the difference in hours:minutes:seconds."
   ]
  },
  {
   "cell_type": "markdown",
   "id": "154fd0da-6e12-46c4-b5e7-ad172e7795ca",
   "metadata": {},
   "source": [
    "<em>Now with Time:</em>"
   ]
  },
  {
   "cell_type": "code",
   "execution_count": null,
   "id": "b2a5a3d3-5a62-45e4-ac77-d90dc1e6551e",
   "metadata": {},
   "outputs": [],
   "source": [
    "df1['Time'] = pd.to_datetime(df1['Time'], format = '%H:%M:%S')"
   ]
  },
  {
   "cell_type": "code",
   "execution_count": null,
   "id": "69e9997a-f3b3-4770-bae0-c8af064650a5",
   "metadata": {},
   "outputs": [],
   "source": [
    "df1['Time'][6] - df1['Time'][0]"
   ]
  },
  {
   "cell_type": "markdown",
   "id": "2e1afe0a-abe4-4dd9-acb7-a5b09262b635",
   "metadata": {},
   "source": [
    "<h2>More ways to find other information from the datetime64 data type</h2>"
   ]
  },
  {
   "cell_type": "code",
   "execution_count": null,
   "id": "3e559cb4-1fde-4d7a-a307-d5ad229188bc",
   "metadata": {},
   "outputs": [],
   "source": [
    "df1['Date'][1]"
   ]
  },
  {
   "cell_type": "code",
   "execution_count": null,
   "id": "6c8b872f-9aa5-4e65-bec5-f7ec7a252bd3",
   "metadata": {},
   "outputs": [],
   "source": [
    "#Find the day\n",
    "df1['Date'][1].day"
   ]
  },
  {
   "cell_type": "code",
   "execution_count": null,
   "id": "25b8f4f2-5c6f-4dd8-80cd-19d08e473c81",
   "metadata": {},
   "outputs": [],
   "source": [
    "#Find the month\n",
    "df1['Date'][1].month"
   ]
  },
  {
   "cell_type": "code",
   "execution_count": null,
   "id": "933cdd55-efdd-415a-a493-da4f160cbb7a",
   "metadata": {},
   "outputs": [],
   "source": [
    "#Find the year\n",
    "df1['Date'][1].year"
   ]
  },
  {
   "cell_type": "markdown",
   "id": "c2a7f138-5a2f-452d-bc20-e6830c1a811e",
   "metadata": {},
   "source": [
    "<h1>Selecting columns based on data types</h1>"
   ]
  },
  {
   "cell_type": "markdown",
   "id": "86dcead3-66c1-4343-a841-e263dba9bf3f",
   "metadata": {},
   "source": [
    "<strong>Use .select_dtypes() to select columns based on their data types:</strong>"
   ]
  },
  {
   "cell_type": "code",
   "execution_count": null,
   "id": "b5dff83f-b7b3-4092-b760-315d14c40b65",
   "metadata": {},
   "outputs": [],
   "source": [
    "#First, revisit the data types for df1\n",
    "df1.dtypes"
   ]
  },
  {
   "cell_type": "code",
   "execution_count": null,
   "id": "93a83de4-a3df-4f74-9ccc-427dfb10d700",
   "metadata": {},
   "outputs": [],
   "source": [
    "#Now create a new DataFrame named decimals which contains the columns from df1 with the data type float64\n",
    "decimals = df1.select_dtypes('float')\n",
    "\n",
    "#Show first 5 data\n",
    "decimals.head()"
   ]
  },
  {
   "cell_type": "code",
   "execution_count": null,
   "id": "f3daf509-2912-4f02-9e09-bfc84a9f244d",
   "metadata": {},
   "outputs": [],
   "source": [
    "decimals.dtypes"
   ]
  },
  {
   "cell_type": "markdown",
   "id": "b526d771-002d-4d08-bd41-c8a3d24baaa8",
   "metadata": {},
   "source": [
    "<strong>Add <em>exclude</em> parameter to exclude certain data types:</strong>"
   ]
  },
  {
   "cell_type": "code",
   "execution_count": null,
   "id": "c56e4871-147c-4fe4-a2f4-f050b2b22a28",
   "metadata": {},
   "outputs": [],
   "source": [
    "#Create a DataFrame which does not contain any column with the object data type\n",
    "number_data = df1.select_dtypes(exclude = 'object')"
   ]
  },
  {
   "cell_type": "code",
   "execution_count": null,
   "id": "ea8aa480-0c4d-419c-a968-748a77925700",
   "metadata": {},
   "outputs": [],
   "source": [
    "number_data.head()"
   ]
  },
  {
   "cell_type": "code",
   "execution_count": null,
   "id": "76624685-ff53-423c-96af-f7c3cc02932e",
   "metadata": {},
   "outputs": [],
   "source": [
    "number_data.dtypes"
   ]
  },
  {
   "cell_type": "markdown",
   "id": "d52b15c9-d0a7-4501-9ace-60d2a1417594",
   "metadata": {},
   "source": [
    "<h1>Additional ways of working with data types.</h1>"
   ]
  },
  {
   "cell_type": "markdown",
   "id": "10771beb-d3e0-4590-8935-88712765e7ce",
   "metadata": {},
   "source": [
    "<strong>Changing data types while importing data:</strong>"
   ]
  },
  {
   "cell_type": "code",
   "execution_count": null,
   "id": "99e8472e-2411-45e3-a0c9-29fce7a0238f",
   "metadata": {},
   "outputs": [],
   "source": [
    "#Create a dictionary which contains the column and its to-be-modified data type as key-value pair\n",
    "dtypes_dict = {'Depth': 'object'}"
   ]
  },
  {
   "cell_type": "code",
   "execution_count": null,
   "id": "d61f4851-114e-46c3-b572-c620993de854",
   "metadata": {},
   "outputs": [],
   "source": [
    "#Change column Depth data type to object at the time o reading the data\n",
    "df3 = pd.read_csv('significant_earthquakes.csv', dtype = dtypes_dict)"
   ]
  },
  {
   "cell_type": "code",
   "execution_count": null,
   "id": "b9bc428e-4b8b-484c-80b9-24b7553440d7",
   "metadata": {},
   "outputs": [],
   "source": [
    "df3.dtypes"
   ]
  },
  {
   "cell_type": "markdown",
   "id": "5f30145c-5da4-4f12-93b0-3b28f32b3ccc",
   "metadata": {},
   "source": [
    "Data types also influence the memory usage of the data set. To see the the memory being consumed by the dataset, use .info()"
   ]
  },
  {
   "cell_type": "code",
   "execution_count": null,
   "id": "cb6f9ecf-d2af-42df-8311-8f338ce6bde8",
   "metadata": {},
   "outputs": [],
   "source": [
    "df3.info()"
   ]
  },
  {
   "cell_type": "markdown",
   "id": "74b49b82-9919-4a61-bb0f-5c6219a23655",
   "metadata": {},
   "source": [
    "<strong><em>Category</em> data type to save memory:</strong>"
   ]
  },
  {
   "cell_type": "markdown",
   "id": "91cd271e-27ce-4c60-9290-f43cdab944e4",
   "metadata": {},
   "source": [
    "Data type <em>category</em> can be used for columns containing categorical data. Usually, it is seen that categorical columns have ‘object’ data type.  The data type for such columns can be changed to ‘categorical’ as shown to save memory."
   ]
  },
  {
   "cell_type": "code",
   "execution_count": null,
   "id": "91384fba-bef7-4582-a3c9-42630bcee24b",
   "metadata": {},
   "outputs": [],
   "source": [
    "dtypes1 = {\n",
    "    'Type': 'category',\n",
    "    'Status': 'category',\n",
    "    'Source': 'category',\n",
    "    'Location Source': 'category',\n",
    "    'Magnitude Source': 'category',\n",
    "    'Magnitude Type': 'category'\n",
    "}\n",
    "\n",
    "df4 = pd.read_csv('significant_earthquakes.csv', dtype = dtypes1, parse_dates = ['Date', 'Time'])"
   ]
  },
  {
   "cell_type": "code",
   "execution_count": null,
   "id": "4f6d4d3f-2ab6-4b8c-83b7-de33fad141a6",
   "metadata": {},
   "outputs": [],
   "source": [
    "df4.info()"
   ]
  },
  {
   "cell_type": "markdown",
   "id": "1f7e8392-fb81-41da-a358-94d5d5df0bd9",
   "metadata": {},
   "source": [
    "The memory usage reduces from 172 KB to 131.5 KB. Therefore, it is important to have the right kind of data type for each column."
   ]
  }
 ],
 "metadata": {
  "kernelspec": {
   "display_name": "Python 3 (ipykernel)",
   "language": "python",
   "name": "python3"
  },
  "language_info": {
   "codemirror_mode": {
    "name": "ipython",
    "version": 3
   },
   "file_extension": ".py",
   "mimetype": "text/x-python",
   "name": "python",
   "nbconvert_exporter": "python",
   "pygments_lexer": "ipython3",
   "version": "3.10.12"
  }
 },
 "nbformat": 4,
 "nbformat_minor": 5
}
