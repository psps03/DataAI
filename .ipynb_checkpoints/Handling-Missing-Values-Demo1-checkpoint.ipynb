{
 "cells": [
  {
   "cell_type": "markdown",
   "id": "8d519880-4e8b-4368-9d8c-e63b4ad320e3",
   "metadata": {},
   "source": [
    "<h1>Handling Missing Values</h1>"
   ]
  },
  {
   "cell_type": "markdown",
   "id": "a1d24b12-8102-4568-a99d-5bdd5c4ba54d",
   "metadata": {},
   "source": [
    "<p>This demo will cover these topics:</p>\n",
    "\n",
    "<ul>\n",
    "    <li>Deleting missing values</li>\n",
    "    <li>Replacing missing value</li>\n",
    "</ul>"
   ]
  },
  {
   "cell_type": "markdown",
   "id": "f5506f1c-32ce-4920-b66d-fa8379405552",
   "metadata": {},
   "source": [
    "<strong>First install pandas: </strong>"
   ]
  },
  {
   "cell_type": "code",
   "execution_count": 3,
   "id": "cd4f4cb4-9894-4046-838c-ddaa8ac64fd8",
   "metadata": {},
   "outputs": [
    {
     "name": "stdout",
     "output_type": "stream",
     "text": [
      "Defaulting to user installation because normal site-packages is not writeable\n",
      "Collecting pandas\n",
      "  Downloading pandas-2.3.3-cp310-cp310-manylinux_2_24_x86_64.manylinux_2_28_x86_64.whl (12.8 MB)\n",
      "\u001b[2K     \u001b[90m━━━━━━━━━━━━━━━━━━━━━━━━━━━━━━━━━━━━━━━━\u001b[0m \u001b[32m12.8/12.8 MB\u001b[0m \u001b[31m11.9 MB/s\u001b[0m eta \u001b[36m0:00:00\u001b[0m00:01\u001b[0m00:01\u001b[0m\n",
      "Collecting tzdata>=2022.7\n",
      "  Downloading tzdata-2025.2-py2.py3-none-any.whl (347 kB)\n",
      "\u001b[2K     \u001b[90m━━━━━━━━━━━━━━━━━━━━━━━━━━━━━━━━━━━━━━\u001b[0m \u001b[32m347.8/347.8 KB\u001b[0m \u001b[31m18.4 MB/s\u001b[0m eta \u001b[36m0:00:00\u001b[0m\n",
      "\u001b[?25hRequirement already satisfied: pytz>=2020.1 in /usr/lib/python3/dist-packages (from pandas) (2022.1)\n",
      "Collecting numpy>=1.22.4\n",
      "  Downloading numpy-2.2.6-cp310-cp310-manylinux_2_17_x86_64.manylinux2014_x86_64.whl (16.8 MB)\n",
      "\u001b[2K     \u001b[90m━━━━━━━━━━━━━━━━━━━━━━━━━━━━━━━━━━━━━━━━\u001b[0m \u001b[32m16.8/16.8 MB\u001b[0m \u001b[31m11.5 MB/s\u001b[0m eta \u001b[36m0:00:00\u001b[0m00:01\u001b[0m00:01\u001b[0m\n",
      "Requirement already satisfied: python-dateutil>=2.8.2 in /home/psireal/.local/lib/python3.10/site-packages (from pandas) (2.9.0.post0)\n",
      "Requirement already satisfied: six>=1.5 in /usr/lib/python3/dist-packages (from python-dateutil>=2.8.2->pandas) (1.16.0)\n",
      "Installing collected packages: tzdata, numpy, pandas\n",
      "Successfully installed numpy-2.2.6 pandas-2.3.3 tzdata-2025.2\n"
     ]
    }
   ],
   "source": [
    "!pip install pandas"
   ]
  },
  {
   "cell_type": "markdown",
   "id": "be45d44f-896c-4e53-900b-bcadfc8623c8",
   "metadata": {},
   "source": [
    "<strong>Next import pandas to notebook:</strong>"
   ]
  },
  {
   "cell_type": "code",
   "execution_count": 2,
   "id": "c3bc45bc-816f-4756-b92e-59767841257c",
   "metadata": {},
   "outputs": [],
   "source": [
    "import pandas as pd"
   ]
  },
  {
   "cell_type": "markdown",
   "id": "24d9acfd-6613-4fed-baed-5a5bf42027fb",
   "metadata": {},
   "source": [
    "Let us now look at the dataset for this task. The dataset is about predicting whether a female has diabetes or not based on parameters such as Glucose and Insulin levels. "
   ]
  },
  {
   "cell_type": "markdown",
   "id": "23838905-4de3-4bc6-84e5-4e2099ac2524",
   "metadata": {},
   "source": [
    "<strong>Read the dataset in Pandas dataframe named as df1:</strong>"
   ]
  },
  {
   "cell_type": "code",
   "execution_count": 3,
   "id": "52717cde-8b54-4c78-a751-9ebaca94117c",
   "metadata": {},
   "outputs": [],
   "source": [
    "df1 = pd.read_csv('csv-files/diabetes.csv')"
   ]
  },
  {
   "cell_type": "markdown",
   "id": "2b869ab0-9f5d-46f2-903c-747261b55c17",
   "metadata": {},
   "source": [
    "<strong>Use .head() to see the first few rows of the dataset:</strong>"
   ]
  },
  {
   "cell_type": "code",
   "execution_count": 4,
   "id": "3a5962e5-017a-4e4f-aec6-521b74761e68",
   "metadata": {},
   "outputs": [
    {
     "data": {
      "text/html": [
       "<div>\n",
       "<style scoped>\n",
       "    .dataframe tbody tr th:only-of-type {\n",
       "        vertical-align: middle;\n",
       "    }\n",
       "\n",
       "    .dataframe tbody tr th {\n",
       "        vertical-align: top;\n",
       "    }\n",
       "\n",
       "    .dataframe thead th {\n",
       "        text-align: right;\n",
       "    }\n",
       "</style>\n",
       "<table border=\"1\" class=\"dataframe\">\n",
       "  <thead>\n",
       "    <tr style=\"text-align: right;\">\n",
       "      <th></th>\n",
       "      <th>Pregnancies</th>\n",
       "      <th>Glucose</th>\n",
       "      <th>BloodPressure</th>\n",
       "      <th>SkinThickness</th>\n",
       "      <th>Insulin</th>\n",
       "      <th>BMI</th>\n",
       "      <th>DiabetesPedigreeFunction</th>\n",
       "      <th>Age</th>\n",
       "      <th>Outcome</th>\n",
       "    </tr>\n",
       "  </thead>\n",
       "  <tbody>\n",
       "    <tr>\n",
       "      <th>0</th>\n",
       "      <td>6</td>\n",
       "      <td>148</td>\n",
       "      <td>72</td>\n",
       "      <td>35</td>\n",
       "      <td>0</td>\n",
       "      <td>33.6</td>\n",
       "      <td>0.627</td>\n",
       "      <td>50</td>\n",
       "      <td>1</td>\n",
       "    </tr>\n",
       "    <tr>\n",
       "      <th>1</th>\n",
       "      <td>1</td>\n",
       "      <td>85</td>\n",
       "      <td>66</td>\n",
       "      <td>29</td>\n",
       "      <td>0</td>\n",
       "      <td>26.6</td>\n",
       "      <td>0.351</td>\n",
       "      <td>31</td>\n",
       "      <td>0</td>\n",
       "    </tr>\n",
       "    <tr>\n",
       "      <th>2</th>\n",
       "      <td>8</td>\n",
       "      <td>183</td>\n",
       "      <td>64</td>\n",
       "      <td>0</td>\n",
       "      <td>0</td>\n",
       "      <td>23.3</td>\n",
       "      <td>0.672</td>\n",
       "      <td>32</td>\n",
       "      <td>1</td>\n",
       "    </tr>\n",
       "    <tr>\n",
       "      <th>3</th>\n",
       "      <td>1</td>\n",
       "      <td>89</td>\n",
       "      <td>66</td>\n",
       "      <td>23</td>\n",
       "      <td>94</td>\n",
       "      <td>28.1</td>\n",
       "      <td>0.167</td>\n",
       "      <td>21</td>\n",
       "      <td>0</td>\n",
       "    </tr>\n",
       "    <tr>\n",
       "      <th>4</th>\n",
       "      <td>0</td>\n",
       "      <td>137</td>\n",
       "      <td>40</td>\n",
       "      <td>35</td>\n",
       "      <td>168</td>\n",
       "      <td>43.1</td>\n",
       "      <td>2.288</td>\n",
       "      <td>33</td>\n",
       "      <td>1</td>\n",
       "    </tr>\n",
       "  </tbody>\n",
       "</table>\n",
       "</div>"
      ],
      "text/plain": [
       "   Pregnancies  Glucose  BloodPressure  SkinThickness  Insulin   BMI  \\\n",
       "0            6      148             72             35        0  33.6   \n",
       "1            1       85             66             29        0  26.6   \n",
       "2            8      183             64              0        0  23.3   \n",
       "3            1       89             66             23       94  28.1   \n",
       "4            0      137             40             35      168  43.1   \n",
       "\n",
       "   DiabetesPedigreeFunction  Age  Outcome  \n",
       "0                     0.627   50        1  \n",
       "1                     0.351   31        0  \n",
       "2                     0.672   32        1  \n",
       "3                     0.167   21        0  \n",
       "4                     2.288   33        1  "
      ]
     },
     "execution_count": 4,
     "metadata": {},
     "output_type": "execute_result"
    }
   ],
   "source": [
    "df1.head()"
   ]
  },
  {
   "cell_type": "markdown",
   "id": "2fd1796e-8e87-4aca-a16d-3ce5dee63355",
   "metadata": {},
   "source": [
    "<strong>Use .info() to know more details about the data such as number of rows and columns:</strong>"
   ]
  },
  {
   "cell_type": "code",
   "execution_count": 5,
   "id": "f59365ef-0aa2-4327-a321-df6d4c1ad88f",
   "metadata": {},
   "outputs": [
    {
     "name": "stdout",
     "output_type": "stream",
     "text": [
      "<class 'pandas.core.frame.DataFrame'>\n",
      "RangeIndex: 768 entries, 0 to 767\n",
      "Data columns (total 9 columns):\n",
      " #   Column                    Non-Null Count  Dtype  \n",
      "---  ------                    --------------  -----  \n",
      " 0   Pregnancies               768 non-null    int64  \n",
      " 1   Glucose                   768 non-null    int64  \n",
      " 2   BloodPressure             768 non-null    int64  \n",
      " 3   SkinThickness             768 non-null    int64  \n",
      " 4   Insulin                   768 non-null    int64  \n",
      " 5   BMI                       768 non-null    float64\n",
      " 6   DiabetesPedigreeFunction  768 non-null    float64\n",
      " 7   Age                       768 non-null    int64  \n",
      " 8   Outcome                   768 non-null    int64  \n",
      "dtypes: float64(2), int64(7)\n",
      "memory usage: 54.1 KB\n"
     ]
    }
   ],
   "source": [
    "df1.info()"
   ]
  },
  {
   "cell_type": "markdown",
   "id": "40e94a4d-2969-406f-8f53-1539a5d25865",
   "metadata": {},
   "source": [
    "As we can see, there are 9 columns and 768 rows. There appears to be no null values in the data, but let's dive more deeply in the dataset."
   ]
  },
  {
   "cell_type": "markdown",
   "id": "97d22927-9dc8-40dd-a638-7e6c94860b12",
   "metadata": {},
   "source": [
    "<strong>Use .describe() to check if there really is no null value in the dataset:</strong> <br>\n",
    "<em>Remember: Null values needs to be represented as NaN or None, not 0 or -</em>"
   ]
  },
  {
   "cell_type": "code",
   "execution_count": 6,
   "id": "160476be-5f67-4c60-a48d-be6a7c34364a",
   "metadata": {},
   "outputs": [
    {
     "data": {
      "text/html": [
       "<div>\n",
       "<style scoped>\n",
       "    .dataframe tbody tr th:only-of-type {\n",
       "        vertical-align: middle;\n",
       "    }\n",
       "\n",
       "    .dataframe tbody tr th {\n",
       "        vertical-align: top;\n",
       "    }\n",
       "\n",
       "    .dataframe thead th {\n",
       "        text-align: right;\n",
       "    }\n",
       "</style>\n",
       "<table border=\"1\" class=\"dataframe\">\n",
       "  <thead>\n",
       "    <tr style=\"text-align: right;\">\n",
       "      <th></th>\n",
       "      <th>Pregnancies</th>\n",
       "      <th>Glucose</th>\n",
       "      <th>BloodPressure</th>\n",
       "      <th>SkinThickness</th>\n",
       "      <th>Insulin</th>\n",
       "      <th>BMI</th>\n",
       "      <th>DiabetesPedigreeFunction</th>\n",
       "      <th>Age</th>\n",
       "      <th>Outcome</th>\n",
       "    </tr>\n",
       "  </thead>\n",
       "  <tbody>\n",
       "    <tr>\n",
       "      <th>count</th>\n",
       "      <td>768.000000</td>\n",
       "      <td>768.000000</td>\n",
       "      <td>768.000000</td>\n",
       "      <td>768.000000</td>\n",
       "      <td>768.000000</td>\n",
       "      <td>768.000000</td>\n",
       "      <td>768.000000</td>\n",
       "      <td>768.000000</td>\n",
       "      <td>768.000000</td>\n",
       "    </tr>\n",
       "    <tr>\n",
       "      <th>mean</th>\n",
       "      <td>3.845052</td>\n",
       "      <td>120.894531</td>\n",
       "      <td>69.105469</td>\n",
       "      <td>20.536458</td>\n",
       "      <td>79.799479</td>\n",
       "      <td>31.992578</td>\n",
       "      <td>0.471876</td>\n",
       "      <td>33.240885</td>\n",
       "      <td>0.348958</td>\n",
       "    </tr>\n",
       "    <tr>\n",
       "      <th>std</th>\n",
       "      <td>3.369578</td>\n",
       "      <td>31.972618</td>\n",
       "      <td>19.355807</td>\n",
       "      <td>15.952218</td>\n",
       "      <td>115.244002</td>\n",
       "      <td>7.884160</td>\n",
       "      <td>0.331329</td>\n",
       "      <td>11.760232</td>\n",
       "      <td>0.476951</td>\n",
       "    </tr>\n",
       "    <tr>\n",
       "      <th>min</th>\n",
       "      <td>0.000000</td>\n",
       "      <td>0.000000</td>\n",
       "      <td>0.000000</td>\n",
       "      <td>0.000000</td>\n",
       "      <td>0.000000</td>\n",
       "      <td>0.000000</td>\n",
       "      <td>0.078000</td>\n",
       "      <td>21.000000</td>\n",
       "      <td>0.000000</td>\n",
       "    </tr>\n",
       "    <tr>\n",
       "      <th>25%</th>\n",
       "      <td>1.000000</td>\n",
       "      <td>99.000000</td>\n",
       "      <td>62.000000</td>\n",
       "      <td>0.000000</td>\n",
       "      <td>0.000000</td>\n",
       "      <td>27.300000</td>\n",
       "      <td>0.243750</td>\n",
       "      <td>24.000000</td>\n",
       "      <td>0.000000</td>\n",
       "    </tr>\n",
       "    <tr>\n",
       "      <th>50%</th>\n",
       "      <td>3.000000</td>\n",
       "      <td>117.000000</td>\n",
       "      <td>72.000000</td>\n",
       "      <td>23.000000</td>\n",
       "      <td>30.500000</td>\n",
       "      <td>32.000000</td>\n",
       "      <td>0.372500</td>\n",
       "      <td>29.000000</td>\n",
       "      <td>0.000000</td>\n",
       "    </tr>\n",
       "    <tr>\n",
       "      <th>75%</th>\n",
       "      <td>6.000000</td>\n",
       "      <td>140.250000</td>\n",
       "      <td>80.000000</td>\n",
       "      <td>32.000000</td>\n",
       "      <td>127.250000</td>\n",
       "      <td>36.600000</td>\n",
       "      <td>0.626250</td>\n",
       "      <td>41.000000</td>\n",
       "      <td>1.000000</td>\n",
       "    </tr>\n",
       "    <tr>\n",
       "      <th>max</th>\n",
       "      <td>17.000000</td>\n",
       "      <td>199.000000</td>\n",
       "      <td>122.000000</td>\n",
       "      <td>99.000000</td>\n",
       "      <td>846.000000</td>\n",
       "      <td>67.100000</td>\n",
       "      <td>2.420000</td>\n",
       "      <td>81.000000</td>\n",
       "      <td>1.000000</td>\n",
       "    </tr>\n",
       "  </tbody>\n",
       "</table>\n",
       "</div>"
      ],
      "text/plain": [
       "       Pregnancies     Glucose  BloodPressure  SkinThickness     Insulin  \\\n",
       "count   768.000000  768.000000     768.000000     768.000000  768.000000   \n",
       "mean      3.845052  120.894531      69.105469      20.536458   79.799479   \n",
       "std       3.369578   31.972618      19.355807      15.952218  115.244002   \n",
       "min       0.000000    0.000000       0.000000       0.000000    0.000000   \n",
       "25%       1.000000   99.000000      62.000000       0.000000    0.000000   \n",
       "50%       3.000000  117.000000      72.000000      23.000000   30.500000   \n",
       "75%       6.000000  140.250000      80.000000      32.000000  127.250000   \n",
       "max      17.000000  199.000000     122.000000      99.000000  846.000000   \n",
       "\n",
       "              BMI  DiabetesPedigreeFunction         Age     Outcome  \n",
       "count  768.000000                768.000000  768.000000  768.000000  \n",
       "mean    31.992578                  0.471876   33.240885    0.348958  \n",
       "std      7.884160                  0.331329   11.760232    0.476951  \n",
       "min      0.000000                  0.078000   21.000000    0.000000  \n",
       "25%     27.300000                  0.243750   24.000000    0.000000  \n",
       "50%     32.000000                  0.372500   29.000000    0.000000  \n",
       "75%     36.600000                  0.626250   41.000000    1.000000  \n",
       "max     67.100000                  2.420000   81.000000    1.000000  "
      ]
     },
     "execution_count": 6,
     "metadata": {},
     "output_type": "execute_result"
    }
   ],
   "source": [
    "df1.describe()"
   ]
  },
  {
   "cell_type": "markdown",
   "id": "af1ebf1b-c4c4-4286-ba67-651439d57246",
   "metadata": {},
   "source": [
    "<p>Looking at the minimum value for each column, we can observe that:\n",
    "    <ul>\n",
    "        <li>Glucose</li>\n",
    "        <li>BloodPressure</li>\n",
    "        <li>SkinThickness</li>\n",
    "        <li>Insulin</li>\n",
    "        <li>BMI</li>\n",
    "    </ul>\n",
    "    have 0 minimum values, which does not make sense because these parameters cannot be 0 for any person. This suggests that the missing values are represented by 0.</p>"
   ]
  },
  {
   "cell_type": "markdown",
   "id": "8fbf3c9e-3306-498d-be12-7ad1901fbe02",
   "metadata": {},
   "source": [
    "<strong>Use .sum() to find how many 0 values are in each of these columns:</strong> <br>\n",
    "<em>First create a variable to store the identified columns.<em> "
   ]
  },
  {
   "cell_type": "code",
   "execution_count": 7,
   "id": "9ca95c40-a303-4ba7-b756-ac20e56c864b",
   "metadata": {},
   "outputs": [],
   "source": [
    "data_cols = ['Glucose', 'BloodPressure', 'SkinThickness', 'Insulin', 'BMI']"
   ]
  },
  {
   "cell_type": "code",
   "execution_count": 11,
   "id": "a0598cdb-d382-4925-b9e1-52f4e7dda321",
   "metadata": {},
   "outputs": [
    {
     "data": {
      "text/plain": [
       "Glucose            5\n",
       "BloodPressure     35\n",
       "SkinThickness    227\n",
       "Insulin          374\n",
       "BMI               11\n",
       "dtype: int64"
      ]
     },
     "execution_count": 11,
     "metadata": {},
     "output_type": "execute_result"
    }
   ],
   "source": [
    "(df1[data_cols] == 0).sum() #df1[data_cols] == 0 means only find rows with 0 values in each column"
   ]
  },
  {
   "cell_type": "markdown",
   "id": "603728c4-9574-4424-b699-2708033518f2",
   "metadata": {},
   "source": [
    "The count of 0 values have been listed above. These numbers confirmed that 0 are indeed representing missing values. Now, try to find the count of null values in each column."
   ]
  },
  {
   "cell_type": "markdown",
   "id": "f18fe653-1155-484f-831e-86ba029f0424",
   "metadata": {},
   "source": [
    "<strong>Use .isnull().sum() to find the count of null values:</strong>"
   ]
  },
  {
   "cell_type": "code",
   "execution_count": 12,
   "id": "c81414c9-30f3-46bd-9586-b7773606ab70",
   "metadata": {},
   "outputs": [
    {
     "data": {
      "text/plain": [
       "Pregnancies                 0\n",
       "Glucose                     0\n",
       "BloodPressure               0\n",
       "SkinThickness               0\n",
       "Insulin                     0\n",
       "BMI                         0\n",
       "DiabetesPedigreeFunction    0\n",
       "Age                         0\n",
       "Outcome                     0\n",
       "dtype: int64"
      ]
     },
     "execution_count": 12,
     "metadata": {},
     "output_type": "execute_result"
    }
   ],
   "source": [
    "df1.isnull().sum()"
   ]
  },
  {
   "cell_type": "markdown",
   "id": "c988f55b-f5c1-471b-8424-746075ff3ba5",
   "metadata": {},
   "source": [
    "It shows 0 null values for every column. This happens because null values are not represented by the standard representation of 'NaN'or 'None'. Since null values are represented by 0, pandas is not able to identify any null values in the dataset. For this to work, replace these 0 values with 'NaN'."
   ]
  },
  {
   "cell_type": "markdown",
   "id": "bbb868dd-ec8f-4f7c-a005-5efddb3c3c6c",
   "metadata": {},
   "source": [
    "<strong>First import nan from numpy:</strong>"
   ]
  },
  {
   "cell_type": "code",
   "execution_count": 13,
   "id": "a0979bb4-365b-440d-a920-31e705c79a15",
   "metadata": {},
   "outputs": [],
   "source": [
    "from numpy import nan"
   ]
  },
  {
   "cell_type": "markdown",
   "id": "25e9258d-6b98-4065-b98a-5b11c7ebc966",
   "metadata": {},
   "source": [
    "<strong>Use .replace() to replace 0 with NaN:</strong>"
   ]
  },
  {
   "cell_type": "code",
   "execution_count": 16,
   "id": "245a5437-6676-4dcc-bb61-cdcadcd8c3d1",
   "metadata": {},
   "outputs": [],
   "source": [
    "df1[data_cols] = df1[data_cols].replace(0, nan)"
   ]
  },
  {
   "cell_type": "markdown",
   "id": "5b66258b-bf29-446f-955e-692ad7fc422a",
   "metadata": {},
   "source": [
    "Check the null values again in the dataset."
   ]
  },
  {
   "cell_type": "code",
   "execution_count": 17,
   "id": "7f4c8451-a608-4db3-a549-8597dd8e45a3",
   "metadata": {},
   "outputs": [
    {
     "data": {
      "text/plain": [
       "Pregnancies                   0\n",
       "Glucose                       5\n",
       "BloodPressure                35\n",
       "SkinThickness               227\n",
       "Insulin                     374\n",
       "BMI                          11\n",
       "DiabetesPedigreeFunction      0\n",
       "Age                           0\n",
       "Outcome                       0\n",
       "dtype: int64"
      ]
     },
     "execution_count": 17,
     "metadata": {},
     "output_type": "execute_result"
    }
   ],
   "source": [
    "df1.isnull().sum()"
   ]
  },
  {
   "cell_type": "markdown",
   "id": "6c16a2a8-7b38-4d63-9cc2-8e60fe84f1a9",
   "metadata": {},
   "source": [
    "Null values are now being detected. All 0s have been converted to null values. View the first 20 rows of the dataset to see some of the NaN values."
   ]
  },
  {
   "cell_type": "code",
   "execution_count": 31,
   "id": "ef5eb1ee-c5ed-4626-9fea-2d9648bc04ca",
   "metadata": {},
   "outputs": [
    {
     "data": {
      "text/html": [
       "<div>\n",
       "<style scoped>\n",
       "    .dataframe tbody tr th:only-of-type {\n",
       "        vertical-align: middle;\n",
       "    }\n",
       "\n",
       "    .dataframe tbody tr th {\n",
       "        vertical-align: top;\n",
       "    }\n",
       "\n",
       "    .dataframe thead th {\n",
       "        text-align: right;\n",
       "    }\n",
       "</style>\n",
       "<table border=\"1\" class=\"dataframe\">\n",
       "  <thead>\n",
       "    <tr style=\"text-align: right;\">\n",
       "      <th></th>\n",
       "      <th>Pregnancies</th>\n",
       "      <th>Glucose</th>\n",
       "      <th>BloodPressure</th>\n",
       "      <th>SkinThickness</th>\n",
       "      <th>Insulin</th>\n",
       "      <th>BMI</th>\n",
       "      <th>DiabetesPedigreeFunction</th>\n",
       "      <th>Age</th>\n",
       "      <th>Outcome</th>\n",
       "    </tr>\n",
       "  </thead>\n",
       "  <tbody>\n",
       "    <tr>\n",
       "      <th>0</th>\n",
       "      <td>6</td>\n",
       "      <td>148.0</td>\n",
       "      <td>72.0</td>\n",
       "      <td>35.0</td>\n",
       "      <td>156.056122</td>\n",
       "      <td>33.6</td>\n",
       "      <td>0.627</td>\n",
       "      <td>50</td>\n",
       "      <td>1</td>\n",
       "    </tr>\n",
       "    <tr>\n",
       "      <th>1</th>\n",
       "      <td>1</td>\n",
       "      <td>85.0</td>\n",
       "      <td>66.0</td>\n",
       "      <td>29.0</td>\n",
       "      <td>156.056122</td>\n",
       "      <td>26.6</td>\n",
       "      <td>0.351</td>\n",
       "      <td>31</td>\n",
       "      <td>0</td>\n",
       "    </tr>\n",
       "    <tr>\n",
       "      <th>2</th>\n",
       "      <td>8</td>\n",
       "      <td>183.0</td>\n",
       "      <td>64.0</td>\n",
       "      <td>26.0</td>\n",
       "      <td>156.056122</td>\n",
       "      <td>23.3</td>\n",
       "      <td>0.672</td>\n",
       "      <td>32</td>\n",
       "      <td>1</td>\n",
       "    </tr>\n",
       "    <tr>\n",
       "      <th>3</th>\n",
       "      <td>1</td>\n",
       "      <td>89.0</td>\n",
       "      <td>66.0</td>\n",
       "      <td>23.0</td>\n",
       "      <td>94.000000</td>\n",
       "      <td>28.1</td>\n",
       "      <td>0.167</td>\n",
       "      <td>21</td>\n",
       "      <td>0</td>\n",
       "    </tr>\n",
       "    <tr>\n",
       "      <th>4</th>\n",
       "      <td>0</td>\n",
       "      <td>137.0</td>\n",
       "      <td>40.0</td>\n",
       "      <td>35.0</td>\n",
       "      <td>168.000000</td>\n",
       "      <td>43.1</td>\n",
       "      <td>2.288</td>\n",
       "      <td>33</td>\n",
       "      <td>1</td>\n",
       "    </tr>\n",
       "    <tr>\n",
       "      <th>5</th>\n",
       "      <td>5</td>\n",
       "      <td>116.0</td>\n",
       "      <td>74.0</td>\n",
       "      <td>33.5</td>\n",
       "      <td>156.056122</td>\n",
       "      <td>25.6</td>\n",
       "      <td>0.201</td>\n",
       "      <td>30</td>\n",
       "      <td>0</td>\n",
       "    </tr>\n",
       "    <tr>\n",
       "      <th>6</th>\n",
       "      <td>3</td>\n",
       "      <td>78.0</td>\n",
       "      <td>50.0</td>\n",
       "      <td>32.0</td>\n",
       "      <td>88.000000</td>\n",
       "      <td>31.0</td>\n",
       "      <td>0.248</td>\n",
       "      <td>26</td>\n",
       "      <td>1</td>\n",
       "    </tr>\n",
       "    <tr>\n",
       "      <th>8</th>\n",
       "      <td>2</td>\n",
       "      <td>197.0</td>\n",
       "      <td>70.0</td>\n",
       "      <td>45.0</td>\n",
       "      <td>543.000000</td>\n",
       "      <td>30.5</td>\n",
       "      <td>0.158</td>\n",
       "      <td>53</td>\n",
       "      <td>1</td>\n",
       "    </tr>\n",
       "    <tr>\n",
       "      <th>10</th>\n",
       "      <td>4</td>\n",
       "      <td>110.0</td>\n",
       "      <td>92.0</td>\n",
       "      <td>39.5</td>\n",
       "      <td>156.056122</td>\n",
       "      <td>37.6</td>\n",
       "      <td>0.191</td>\n",
       "      <td>30</td>\n",
       "      <td>0</td>\n",
       "    </tr>\n",
       "    <tr>\n",
       "      <th>11</th>\n",
       "      <td>10</td>\n",
       "      <td>168.0</td>\n",
       "      <td>74.0</td>\n",
       "      <td>34.0</td>\n",
       "      <td>156.056122</td>\n",
       "      <td>38.0</td>\n",
       "      <td>0.537</td>\n",
       "      <td>34</td>\n",
       "      <td>1</td>\n",
       "    </tr>\n",
       "    <tr>\n",
       "      <th>12</th>\n",
       "      <td>10</td>\n",
       "      <td>139.0</td>\n",
       "      <td>80.0</td>\n",
       "      <td>28.5</td>\n",
       "      <td>156.056122</td>\n",
       "      <td>27.1</td>\n",
       "      <td>1.441</td>\n",
       "      <td>57</td>\n",
       "      <td>0</td>\n",
       "    </tr>\n",
       "    <tr>\n",
       "      <th>13</th>\n",
       "      <td>1</td>\n",
       "      <td>189.0</td>\n",
       "      <td>60.0</td>\n",
       "      <td>23.0</td>\n",
       "      <td>846.000000</td>\n",
       "      <td>30.1</td>\n",
       "      <td>0.398</td>\n",
       "      <td>59</td>\n",
       "      <td>1</td>\n",
       "    </tr>\n",
       "    <tr>\n",
       "      <th>14</th>\n",
       "      <td>5</td>\n",
       "      <td>166.0</td>\n",
       "      <td>72.0</td>\n",
       "      <td>19.0</td>\n",
       "      <td>175.000000</td>\n",
       "      <td>25.8</td>\n",
       "      <td>0.587</td>\n",
       "      <td>51</td>\n",
       "      <td>1</td>\n",
       "    </tr>\n",
       "    <tr>\n",
       "      <th>16</th>\n",
       "      <td>0</td>\n",
       "      <td>118.0</td>\n",
       "      <td>84.0</td>\n",
       "      <td>47.0</td>\n",
       "      <td>230.000000</td>\n",
       "      <td>45.8</td>\n",
       "      <td>0.551</td>\n",
       "      <td>31</td>\n",
       "      <td>1</td>\n",
       "    </tr>\n",
       "    <tr>\n",
       "      <th>17</th>\n",
       "      <td>7</td>\n",
       "      <td>107.0</td>\n",
       "      <td>74.0</td>\n",
       "      <td>42.5</td>\n",
       "      <td>156.056122</td>\n",
       "      <td>29.6</td>\n",
       "      <td>0.254</td>\n",
       "      <td>31</td>\n",
       "      <td>1</td>\n",
       "    </tr>\n",
       "    <tr>\n",
       "      <th>18</th>\n",
       "      <td>1</td>\n",
       "      <td>103.0</td>\n",
       "      <td>30.0</td>\n",
       "      <td>38.0</td>\n",
       "      <td>83.000000</td>\n",
       "      <td>43.3</td>\n",
       "      <td>0.183</td>\n",
       "      <td>33</td>\n",
       "      <td>0</td>\n",
       "    </tr>\n",
       "    <tr>\n",
       "      <th>19</th>\n",
       "      <td>1</td>\n",
       "      <td>115.0</td>\n",
       "      <td>70.0</td>\n",
       "      <td>30.0</td>\n",
       "      <td>96.000000</td>\n",
       "      <td>34.6</td>\n",
       "      <td>0.529</td>\n",
       "      <td>32</td>\n",
       "      <td>1</td>\n",
       "    </tr>\n",
       "    <tr>\n",
       "      <th>20</th>\n",
       "      <td>3</td>\n",
       "      <td>126.0</td>\n",
       "      <td>88.0</td>\n",
       "      <td>41.0</td>\n",
       "      <td>235.000000</td>\n",
       "      <td>39.3</td>\n",
       "      <td>0.704</td>\n",
       "      <td>27</td>\n",
       "      <td>0</td>\n",
       "    </tr>\n",
       "    <tr>\n",
       "      <th>21</th>\n",
       "      <td>8</td>\n",
       "      <td>99.0</td>\n",
       "      <td>84.0</td>\n",
       "      <td>39.0</td>\n",
       "      <td>156.056122</td>\n",
       "      <td>35.4</td>\n",
       "      <td>0.388</td>\n",
       "      <td>50</td>\n",
       "      <td>0</td>\n",
       "    </tr>\n",
       "    <tr>\n",
       "      <th>22</th>\n",
       "      <td>7</td>\n",
       "      <td>196.0</td>\n",
       "      <td>90.0</td>\n",
       "      <td>37.0</td>\n",
       "      <td>156.056122</td>\n",
       "      <td>39.8</td>\n",
       "      <td>0.451</td>\n",
       "      <td>41</td>\n",
       "      <td>1</td>\n",
       "    </tr>\n",
       "  </tbody>\n",
       "</table>\n",
       "</div>"
      ],
      "text/plain": [
       "    Pregnancies  Glucose  BloodPressure  SkinThickness     Insulin   BMI  \\\n",
       "0             6    148.0           72.0           35.0  156.056122  33.6   \n",
       "1             1     85.0           66.0           29.0  156.056122  26.6   \n",
       "2             8    183.0           64.0           26.0  156.056122  23.3   \n",
       "3             1     89.0           66.0           23.0   94.000000  28.1   \n",
       "4             0    137.0           40.0           35.0  168.000000  43.1   \n",
       "5             5    116.0           74.0           33.5  156.056122  25.6   \n",
       "6             3     78.0           50.0           32.0   88.000000  31.0   \n",
       "8             2    197.0           70.0           45.0  543.000000  30.5   \n",
       "10            4    110.0           92.0           39.5  156.056122  37.6   \n",
       "11           10    168.0           74.0           34.0  156.056122  38.0   \n",
       "12           10    139.0           80.0           28.5  156.056122  27.1   \n",
       "13            1    189.0           60.0           23.0  846.000000  30.1   \n",
       "14            5    166.0           72.0           19.0  175.000000  25.8   \n",
       "16            0    118.0           84.0           47.0  230.000000  45.8   \n",
       "17            7    107.0           74.0           42.5  156.056122  29.6   \n",
       "18            1    103.0           30.0           38.0   83.000000  43.3   \n",
       "19            1    115.0           70.0           30.0   96.000000  34.6   \n",
       "20            3    126.0           88.0           41.0  235.000000  39.3   \n",
       "21            8     99.0           84.0           39.0  156.056122  35.4   \n",
       "22            7    196.0           90.0           37.0  156.056122  39.8   \n",
       "\n",
       "    DiabetesPedigreeFunction  Age  Outcome  \n",
       "0                      0.627   50        1  \n",
       "1                      0.351   31        0  \n",
       "2                      0.672   32        1  \n",
       "3                      0.167   21        0  \n",
       "4                      2.288   33        1  \n",
       "5                      0.201   30        0  \n",
       "6                      0.248   26        1  \n",
       "8                      0.158   53        1  \n",
       "10                     0.191   30        0  \n",
       "11                     0.537   34        1  \n",
       "12                     1.441   57        0  \n",
       "13                     0.398   59        1  \n",
       "14                     0.587   51        1  \n",
       "16                     0.551   31        1  \n",
       "17                     0.254   31        1  \n",
       "18                     0.183   33        0  \n",
       "19                     0.529   32        1  \n",
       "20                     0.704   27        0  \n",
       "21                     0.388   50        0  \n",
       "22                     0.451   41        1  "
      ]
     },
     "execution_count": 31,
     "metadata": {},
     "output_type": "execute_result"
    }
   ],
   "source": [
    "df1.head(20)"
   ]
  },
  {
   "cell_type": "markdown",
   "id": "ec1980b1-95c6-4ff6-a6aa-94868f2d6c9b",
   "metadata": {},
   "source": [
    "<h1>Deleting Missing Values</h1>"
   ]
  },
  {
   "cell_type": "markdown",
   "id": "410e9c37-a7cf-417f-828c-6bc82de84608",
   "metadata": {},
   "source": [
    "From the count of null values, it can be seen that columns 'Glucose', 'BloodPressure', and 'BMI' have very fe null values. So, deleting these observations would not be detrimental to the dataset."
   ]
  },
  {
   "cell_type": "markdown",
   "id": "18eb9c54-e623-4042-ac0f-49ffea6996c7",
   "metadata": {},
   "source": [
    "<strong>Use .dropna() to drop these missing values:</strong>"
   ]
  },
  {
   "cell_type": "code",
   "execution_count": 20,
   "id": "5c443b81-4f65-41a2-a36c-ec8df7dd9c73",
   "metadata": {},
   "outputs": [
    {
     "data": {
      "text/plain": [
       "Pregnancies                   0\n",
       "Glucose                       0\n",
       "BloodPressure                 0\n",
       "SkinThickness               192\n",
       "Insulin                     332\n",
       "BMI                           0\n",
       "DiabetesPedigreeFunction      0\n",
       "Age                           0\n",
       "Outcome                       0\n",
       "dtype: int64"
      ]
     },
     "execution_count": 20,
     "metadata": {},
     "output_type": "execute_result"
    }
   ],
   "source": [
    "df1 = df1.dropna(subset = ['Glucose', 'BloodPressure', 'BMI']) #subset specifies the columns where there are null values\n",
    "\n",
    "#show new count of null values\n",
    "df1.isnull().sum()"
   ]
  },
  {
   "cell_type": "markdown",
   "id": "73ceca62-031c-464d-8651-b35b19cebe1c",
   "metadata": {},
   "source": [
    "Null values from columns Glucose, BloodPressure, and BMI have been removed. Deletion of these rows have deleted some null values for SkinThickness and Insulin as well; thus, their reduced null values. (For Example row 4 has null values in Glucose and Insulin)."
   ]
  },
  {
   "cell_type": "markdown",
   "id": "55775878-38be-427a-ac1f-a5e42e1ab5e6",
   "metadata": {},
   "source": [
    "<h1>Replacing Missing Values</h1>"
   ]
  },
  {
   "cell_type": "markdown",
   "id": "660b435e-a370-4a71-90e3-9ce7df2c53c5",
   "metadata": {},
   "source": [
    "The column Insulin has 332 missing values, which should be replaced since it is a big number. Use mean of the column Insulin to replace the missing values."
   ]
  },
  {
   "cell_type": "markdown",
   "id": "e91dbf15-39ad-4e8a-a7b6-878049836b0a",
   "metadata": {},
   "source": [
    "<strong>Use .mean() to find the mean of a column:</strong>"
   ]
  },
  {
   "cell_type": "code",
   "execution_count": 22,
   "id": "54224cb1-3f13-403d-a4df-bd7ee5999c4b",
   "metadata": {},
   "outputs": [
    {
     "name": "stdout",
     "output_type": "stream",
     "text": [
      "156.05612244897958\n"
     ]
    }
   ],
   "source": [
    "mean_val = df1['Insulin'].mean()\n",
    "print(mean_val)"
   ]
  },
  {
   "cell_type": "markdown",
   "id": "709cb14f-b9b1-41f6-b037-80c5c9bedab3",
   "metadata": {},
   "source": [
    "<strong>Use .fillna() to replace all the NaN values in the column Insulin with the column's mean:</strong>"
   ]
  },
  {
   "cell_type": "code",
   "execution_count": 24,
   "id": "5029cd80-7eee-4673-bc57-93d5c4ca595e",
   "metadata": {},
   "outputs": [],
   "source": [
    "df1.fillna({'Insulin' : mean_val}, inplace = True)\n",
    "\n",
    "#The behavior will change in pandas 3.0. This inplace method will never work because the intermediate object on which we are setting values always behaves as a copy.\n",
    "\n",
    "#For example, when doing 'df[col].method(value, inplace=True)', try using 'df.method({col: value}, inplace=True)' or df[col] = df[col].method(value) instead, to perform the operation inplace on the original object."
   ]
  },
  {
   "cell_type": "markdown",
   "id": "ce4b429b-31e0-406e-8167-b59b9fa8f988",
   "metadata": {},
   "source": [
    "Check the missing values of the dataset again."
   ]
  },
  {
   "cell_type": "code",
   "execution_count": 26,
   "id": "1d891139-7ed5-404a-a735-0b51ee73ac33",
   "metadata": {},
   "outputs": [
    {
     "data": {
      "text/plain": [
       "Pregnancies                   0\n",
       "Glucose                       0\n",
       "BloodPressure                 0\n",
       "SkinThickness               192\n",
       "Insulin                       0\n",
       "BMI                           0\n",
       "DiabetesPedigreeFunction      0\n",
       "Age                           0\n",
       "Outcome                       0\n",
       "dtype: int64"
      ]
     },
     "execution_count": 26,
     "metadata": {},
     "output_type": "execute_result"
    }
   ],
   "source": [
    "df1.isnull().sum()"
   ]
  },
  {
   "cell_type": "markdown",
   "id": "561c5b47-4e81-43c3-888a-077b67ba6730",
   "metadata": {},
   "source": [
    "Now, try using interpolation to replace missing values. <br>\n",
    "\n",
    "<strong>Use .interpolate() to replace missing values with interpolation:</strong>"
   ]
  },
  {
   "cell_type": "code",
   "execution_count": 29,
   "id": "d91c8c0d-98d3-4474-bb29-8268da8ba8e3",
   "metadata": {},
   "outputs": [],
   "source": [
    "df1['SkinThickness'] = df1['SkinThickness'].interpolate()"
   ]
  },
  {
   "cell_type": "markdown",
   "id": "d0026b78-b4bd-4054-bb1c-a9f2a184caa5",
   "metadata": {},
   "source": [
    "Check the missing values of the dataset again."
   ]
  },
  {
   "cell_type": "code",
   "execution_count": 30,
   "id": "abeed1b9-b3c2-42bd-b2cc-ce3a97ccd37d",
   "metadata": {},
   "outputs": [
    {
     "data": {
      "text/plain": [
       "Pregnancies                 0\n",
       "Glucose                     0\n",
       "BloodPressure               0\n",
       "SkinThickness               0\n",
       "Insulin                     0\n",
       "BMI                         0\n",
       "DiabetesPedigreeFunction    0\n",
       "Age                         0\n",
       "Outcome                     0\n",
       "dtype: int64"
      ]
     },
     "execution_count": 30,
     "metadata": {},
     "output_type": "execute_result"
    }
   ],
   "source": [
    "df1.isnull().sum()"
   ]
  },
  {
   "cell_type": "markdown",
   "id": "63404cb1-6912-4978-b895-39fe25d79d23",
   "metadata": {},
   "source": [
    "<em>\n",
    "    <strong>The dataset is now free of all the null values.</strong>\n",
    "</em>"
   ]
  },
  {
   "cell_type": "code",
   "execution_count": null,
   "id": "8f5c74b1-cfc1-43c6-a6df-d4839dcf99d1",
   "metadata": {},
   "outputs": [],
   "source": []
  }
 ],
 "metadata": {
  "kernelspec": {
   "display_name": "Python 3 (ipykernel)",
   "language": "python",
   "name": "python3"
  },
  "language_info": {
   "codemirror_mode": {
    "name": "ipython",
    "version": 3
   },
   "file_extension": ".py",
   "mimetype": "text/x-python",
   "name": "python",
   "nbconvert_exporter": "python",
   "pygments_lexer": "ipython3",
   "version": "3.10.12"
  }
 },
 "nbformat": 4,
 "nbformat_minor": 5
}
