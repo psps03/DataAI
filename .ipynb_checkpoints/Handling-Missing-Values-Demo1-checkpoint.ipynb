{
 "cells": [
  {
   "cell_type": "markdown",
   "id": "8d519880-4e8b-4368-9d8c-e63b4ad320e3",
   "metadata": {},
   "source": [
    "<h1>Handling Missing Values</h1>"
   ]
  },
  {
   "cell_type": "markdown",
   "id": "a1d24b12-8102-4568-a99d-5bdd5c4ba54d",
   "metadata": {},
   "source": [
    "<p>This demo will cover these topics:</p>\n",
    "\n",
    "<ul>\n",
    "    <li>Deleting missing values</li>\n",
    "    <li>Replacing missing value</li>\n",
    "</ul>"
   ]
  },
  {
   "cell_type": "markdown",
   "id": "f5506f1c-32ce-4920-b66d-fa8379405552",
   "metadata": {},
   "source": [
    "<strong>First install pandas: </strong>"
   ]
  },
  {
   "cell_type": "code",
   "execution_count": null,
   "id": "cd4f4cb4-9894-4046-838c-ddaa8ac64fd8",
   "metadata": {},
   "outputs": [],
   "source": [
    "!pip install pandas"
   ]
  },
  {
   "cell_type": "markdown",
   "id": "be45d44f-896c-4e53-900b-bcadfc8623c8",
   "metadata": {},
   "source": [
    "<strong>Next import pandas to notebook:</strong>"
   ]
  },
  {
   "cell_type": "code",
   "execution_count": null,
   "id": "c3bc45bc-816f-4756-b92e-59767841257c",
   "metadata": {},
   "outputs": [],
   "source": [
    "import pandas as pd"
   ]
  },
  {
   "cell_type": "markdown",
   "id": "24d9acfd-6613-4fed-baed-5a5bf42027fb",
   "metadata": {},
   "source": [
    "Let us now look at the dataset for this task. The dataset is about predicting whether a female has diabetes or not based on parameters such as Glucose and Insulin levels. "
   ]
  },
  {
   "cell_type": "markdown",
   "id": "23838905-4de3-4bc6-84e5-4e2099ac2524",
   "metadata": {},
   "source": [
    "<strong>Read the dataset in Pandas dataframe named as df1:</strong>"
   ]
  },
  {
   "cell_type": "code",
   "execution_count": null,
   "id": "52717cde-8b54-4c78-a751-9ebaca94117c",
   "metadata": {},
   "outputs": [],
   "source": [
    "df1 = pd.read_csv('csv-files/diabetes.csv')"
   ]
  },
  {
   "cell_type": "markdown",
   "id": "2b869ab0-9f5d-46f2-903c-747261b55c17",
   "metadata": {},
   "source": [
    "<strong>Use .head() to see the first few rows of the dataset:</strong>"
   ]
  },
  {
   "cell_type": "code",
   "execution_count": null,
   "id": "3a5962e5-017a-4e4f-aec6-521b74761e68",
   "metadata": {},
   "outputs": [],
   "source": [
    "df1.head()"
   ]
  },
  {
   "cell_type": "markdown",
   "id": "2fd1796e-8e87-4aca-a16d-3ce5dee63355",
   "metadata": {},
   "source": [
    "<strong>Use .info() to know more details about the data such as number of rows and columns:</strong>"
   ]
  },
  {
   "cell_type": "code",
   "execution_count": null,
   "id": "f59365ef-0aa2-4327-a321-df6d4c1ad88f",
   "metadata": {},
   "outputs": [],
   "source": [
    "df1.info()"
   ]
  },
  {
   "cell_type": "markdown",
   "id": "40e94a4d-2969-406f-8f53-1539a5d25865",
   "metadata": {},
   "source": [
    "As we can see, there are 9 columns and 768 rows. There appears to be no null values in the data, but let's dive more deeply in the dataset."
   ]
  },
  {
   "cell_type": "markdown",
   "id": "97d22927-9dc8-40dd-a638-7e6c94860b12",
   "metadata": {},
   "source": [
    "<strong>Use .describe() to check if there really is no null value in the dataset:</strong> <br>\n",
    "<em>Remember: Null values needs to be represented as NaN or None, not 0 or -</em>"
   ]
  },
  {
   "cell_type": "code",
   "execution_count": null,
   "id": "160476be-5f67-4c60-a48d-be6a7c34364a",
   "metadata": {},
   "outputs": [],
   "source": [
    "df1.describe()"
   ]
  },
  {
   "cell_type": "markdown",
   "id": "af1ebf1b-c4c4-4286-ba67-651439d57246",
   "metadata": {},
   "source": [
    "<p>Looking at the minimum value for each column, we can observe that:\n",
    "    <ul>\n",
    "        <li>Glucose</li>\n",
    "        <li>BloodPressure</li>\n",
    "        <li>SkinThickness</li>\n",
    "        <li>Insulin</li>\n",
    "        <li>BMI</li>\n",
    "    </ul>\n",
    "    have 0 minimum values, which does not make sense because these parameters cannot be 0 for any person. This suggests that the missing values are represented by 0.</p>"
   ]
  },
  {
   "cell_type": "markdown",
   "id": "8fbf3c9e-3306-498d-be12-7ad1901fbe02",
   "metadata": {},
   "source": [
    "<strong>Use .sum() to find how many 0 values are in each of these columns:</strong> <br>\n",
    "<em>First create a variable to store the identified columns.<em> "
   ]
  },
  {
   "cell_type": "code",
   "execution_count": null,
   "id": "9ca95c40-a303-4ba7-b756-ac20e56c864b",
   "metadata": {},
   "outputs": [],
   "source": [
    "data_cols = ['Glucose', 'BloodPressure', 'SkinThickness', 'Insulin', 'BMI']"
   ]
  },
  {
   "cell_type": "code",
   "execution_count": null,
   "id": "a0598cdb-d382-4925-b9e1-52f4e7dda321",
   "metadata": {},
   "outputs": [],
   "source": [
    "(df1[data_cols] == 0).sum() #df1[data_cols] == 0 means only find rows with 0 values in each column"
   ]
  },
  {
   "cell_type": "markdown",
   "id": "603728c4-9574-4424-b699-2708033518f2",
   "metadata": {},
   "source": [
    "The count of 0 values have been listed above. These numbers confirmed that 0 are indeed representing missing values. Now, try to find the count of null values in each column."
   ]
  },
  {
   "cell_type": "markdown",
   "id": "f18fe653-1155-484f-831e-86ba029f0424",
   "metadata": {},
   "source": [
    "<strong>Use .isnull().sum() to find the count of null values:</strong>"
   ]
  },
  {
   "cell_type": "code",
   "execution_count": null,
   "id": "c81414c9-30f3-46bd-9586-b7773606ab70",
   "metadata": {},
   "outputs": [],
   "source": [
    "df1.isnull().sum()"
   ]
  },
  {
   "cell_type": "markdown",
   "id": "c988f55b-f5c1-471b-8424-746075ff3ba5",
   "metadata": {},
   "source": [
    "It shows 0 null values for every column. This happens because null values are not represented by the standard representation of 'NaN'or 'None'. Since null values are represented by 0, pandas is not able to identify any null values in the dataset. For this to work, replace these 0 values with 'NaN'."
   ]
  },
  {
   "cell_type": "markdown",
   "id": "bbb868dd-ec8f-4f7c-a005-5efddb3c3c6c",
   "metadata": {},
   "source": [
    "<strong>First import nan from numpy:</strong>"
   ]
  },
  {
   "cell_type": "code",
   "execution_count": null,
   "id": "a0979bb4-365b-440d-a920-31e705c79a15",
   "metadata": {},
   "outputs": [],
   "source": [
    "from numpy import nan"
   ]
  },
  {
   "cell_type": "markdown",
   "id": "25e9258d-6b98-4065-b98a-5b11c7ebc966",
   "metadata": {},
   "source": [
    "<strong>Use .replace() to replace 0 with NaN:</strong>"
   ]
  },
  {
   "cell_type": "code",
   "execution_count": null,
   "id": "245a5437-6676-4dcc-bb61-cdcadcd8c3d1",
   "metadata": {},
   "outputs": [],
   "source": [
    "df1[data_cols] = df1[data_cols].replace(0, nan)"
   ]
  },
  {
   "cell_type": "markdown",
   "id": "5b66258b-bf29-446f-955e-692ad7fc422a",
   "metadata": {},
   "source": [
    "Check the null values again in the dataset."
   ]
  },
  {
   "cell_type": "code",
   "execution_count": null,
   "id": "7f4c8451-a608-4db3-a549-8597dd8e45a3",
   "metadata": {},
   "outputs": [],
   "source": [
    "df1.isnull().sum()"
   ]
  },
  {
   "cell_type": "markdown",
   "id": "6c16a2a8-7b38-4d63-9cc2-8e60fe84f1a9",
   "metadata": {},
   "source": [
    "Null values are now being detected. All 0s have been converted to null values. View the first 20 rows of the dataset to see some of the NaN values."
   ]
  },
  {
   "cell_type": "code",
   "execution_count": null,
   "id": "ef5eb1ee-c5ed-4626-9fea-2d9648bc04ca",
   "metadata": {},
   "outputs": [],
   "source": [
    "df1.head(20)"
   ]
  },
  {
   "cell_type": "markdown",
   "id": "ec1980b1-95c6-4ff6-a6aa-94868f2d6c9b",
   "metadata": {},
   "source": [
    "<h1>Deleting Missing Values</h1>"
   ]
  },
  {
   "cell_type": "markdown",
   "id": "410e9c37-a7cf-417f-828c-6bc82de84608",
   "metadata": {},
   "source": [
    "From the count of null values, it can be seen that columns 'Glucose', 'BloodPressure', and 'BMI' have very fe null values. So, deleting these observations would not be detrimental to the dataset."
   ]
  },
  {
   "cell_type": "markdown",
   "id": "18eb9c54-e623-4042-ac0f-49ffea6996c7",
   "metadata": {},
   "source": [
    "<strong>Use .dropna() to drop these missing values:</strong>"
   ]
  },
  {
   "cell_type": "code",
   "execution_count": null,
   "id": "5c443b81-4f65-41a2-a36c-ec8df7dd9c73",
   "metadata": {},
   "outputs": [],
   "source": [
    "df1 = df1.dropna(subset = ['Glucose', 'BloodPressure', 'BMI']) #subset specifies the columns where there are null values\n",
    "\n",
    "#show new count of null values\n",
    "df1.isnull().sum()"
   ]
  },
  {
   "cell_type": "markdown",
   "id": "73ceca62-031c-464d-8651-b35b19cebe1c",
   "metadata": {},
   "source": [
    "Null values from columns Glucose, BloodPressure, and BMI have been removed. Deletion of these rows have deleted some null values for SkinThickness and Insulin as well; thus, their reduced null values. (For Example row 4 has null values in Glucose and Insulin)."
   ]
  },
  {
   "cell_type": "markdown",
   "id": "55775878-38be-427a-ac1f-a5e42e1ab5e6",
   "metadata": {},
   "source": [
    "<h1>Replacing Missing Values</h1>"
   ]
  },
  {
   "cell_type": "markdown",
   "id": "660b435e-a370-4a71-90e3-9ce7df2c53c5",
   "metadata": {},
   "source": [
    "The column Insulin has 332 missing values, which should be replaced since it is a big number. Use mean of the column Insulin to replace the missing values."
   ]
  },
  {
   "cell_type": "markdown",
   "id": "e91dbf15-39ad-4e8a-a7b6-878049836b0a",
   "metadata": {},
   "source": [
    "<strong>Use .mean() to find the mean of a column:</strong>"
   ]
  },
  {
   "cell_type": "code",
   "execution_count": null,
   "id": "54224cb1-3f13-403d-a4df-bd7ee5999c4b",
   "metadata": {},
   "outputs": [],
   "source": [
    "mean_val = df1['Insulin'].mean()\n",
    "print(mean_val)"
   ]
  },
  {
   "cell_type": "markdown",
   "id": "709cb14f-b9b1-41f6-b037-80c5c9bedab3",
   "metadata": {},
   "source": [
    "<strong>Use .fillna() to replace all the NaN values in the column Insulin with the column's mean:</strong>"
   ]
  },
  {
   "cell_type": "code",
   "execution_count": null,
   "id": "5029cd80-7eee-4673-bc57-93d5c4ca595e",
   "metadata": {},
   "outputs": [],
   "source": [
    "df1.fillna({'Insulin' : mean_val}, inplace = True)\n",
    "\n",
    "#The behavior will change in pandas 3.0. This inplace method will never work because the intermediate object on which we are setting values always behaves as a copy.\n",
    "\n",
    "#For example, when doing 'df[col].method(value, inplace=True)', try using 'df.method({col: value}, inplace=True)' or df[col] = df[col].method(value) instead, to perform the operation inplace on the original object."
   ]
  },
  {
   "cell_type": "markdown",
   "id": "ce4b429b-31e0-406e-8167-b59b9fa8f988",
   "metadata": {},
   "source": [
    "Check the missing values of the dataset again."
   ]
  },
  {
   "cell_type": "code",
   "execution_count": null,
   "id": "1d891139-7ed5-404a-a735-0b51ee73ac33",
   "metadata": {},
   "outputs": [],
   "source": [
    "df1.isnull().sum()"
   ]
  },
  {
   "cell_type": "markdown",
   "id": "561c5b47-4e81-43c3-888a-077b67ba6730",
   "metadata": {},
   "source": [
    "Now, try using interpolation to replace missing values. <br>\n",
    "\n",
    "<strong>Use .interpolate() to replace missing values with interpolation:</strong>"
   ]
  },
  {
   "cell_type": "code",
   "execution_count": null,
   "id": "d91c8c0d-98d3-4474-bb29-8268da8ba8e3",
   "metadata": {},
   "outputs": [],
   "source": [
    "df1['SkinThickness'] = df1['SkinThickness'].interpolate()"
   ]
  },
  {
   "cell_type": "markdown",
   "id": "d0026b78-b4bd-4054-bb1c-a9f2a184caa5",
   "metadata": {},
   "source": [
    "Check the missing values of the dataset again."
   ]
  },
  {
   "cell_type": "code",
   "execution_count": null,
   "id": "abeed1b9-b3c2-42bd-b2cc-ce3a97ccd37d",
   "metadata": {},
   "outputs": [],
   "source": [
    "df1.isnull().sum()"
   ]
  },
  {
   "cell_type": "markdown",
   "id": "63404cb1-6912-4978-b895-39fe25d79d23",
   "metadata": {},
   "source": [
    "<em>\n",
    "    <strong>The dataset is now free of all the null values.</strong>\n",
    "</em>"
   ]
  }
 ],
 "metadata": {
  "kernelspec": {
   "display_name": "Python 3 (ipykernel)",
   "language": "python",
   "name": "python3"
  },
  "language_info": {
   "codemirror_mode": {
    "name": "ipython",
    "version": 3
   },
   "file_extension": ".py",
   "mimetype": "text/x-python",
   "name": "python",
   "nbconvert_exporter": "python",
   "pygments_lexer": "ipython3",
   "version": "3.10.12"
  }
 },
 "nbformat": 4,
 "nbformat_minor": 5
}
